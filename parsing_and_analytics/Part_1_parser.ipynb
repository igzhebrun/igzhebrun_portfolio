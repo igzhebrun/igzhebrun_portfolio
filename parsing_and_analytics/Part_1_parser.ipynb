{
 "cells": [
  {
   "cell_type": "markdown",
   "metadata": {},
   "source": [
    "### Парсим ссылки на квартиры"
   ]
  },
  {
   "cell_type": "markdown",
   "metadata": {},
   "source": [
    "Мы взяли в качестве источника данных рынок арендного жилья в Нижнем Новгороде, так как это достаточно небольшой город, всего получилось ~1500 квартир (их число постоянно меняется), но в нем есть метро, что позволяет собрать больше данных. Парсили Циан с использованием Tor и Selenium."
   ]
  },
  {
   "cell_type": "code",
   "execution_count": 1,
   "metadata": {},
   "outputs": [],
   "source": [
    "import requests  \n",
    "from bs4 import BeautifulSoup\n",
    "from tqdm.notebook import tqdm\n",
    "import time\n",
    "from fake_useragent import UserAgent\n",
    "from joblib import Parallel, delayed\n",
    "import numpy as np\n",
    "import pandas as pd\n",
    "import ast\n",
    "from selenium import webdriver\n",
    "from webdriver_manager.chrome import ChromeDriverManager"
   ]
  },
  {
   "cell_type": "code",
   "execution_count": 25,
   "metadata": {},
   "outputs": [],
   "source": [
    "import time\n",
    "from fake_useragent import UserAgent\n",
    "from joblib import Parallel, delayed\n",
    "import numpy as np\n",
    "import pandas as pd\n",
    "import ast"
   ]
  },
  {
   "cell_type": "code",
   "execution_count": 13,
   "metadata": {},
   "outputs": [],
   "source": [
    "from selenium.webdriver.chrome.options import Options\n",
    "from fake_useragent import UserAgent\n",
    "\n",
    "opts = Options()\n",
    "opts.add_argument(f\"user-agent={UserAgent(verify_ssl=False).chrome}\")\n",
    "driver = webdriver.Chrome(executable_path=r\"C:\\Users\\ilja_\\.wdm\\drivers\\chromedriver\\win32\\91.0.4472.19\\chromedriver.exe\", options=opts)"
   ]
  },
  {
   "cell_type": "code",
   "execution_count": 3,
   "metadata": {},
   "outputs": [],
   "source": [
    "from webdriver_manager.chrome import ChromeDriverManager"
   ]
  },
  {
   "cell_type": "code",
   "execution_count": 4,
   "metadata": {},
   "outputs": [
    {
     "name": "stderr",
     "output_type": "stream",
     "text": [
      "\n",
      "\n",
      "====== WebDriver manager ======\n",
      "Current google-chrome version is 91.0.4472\n",
      "Get LATEST driver version for 91.0.4472\n",
      "Driver [C:\\Users\\ilja_\\.wdm\\drivers\\chromedriver\\win32\\91.0.4472.19\\chromedriver.exe] found in cache\n"
     ]
    }
   ],
   "source": [
    "driver = webdriver.Chrome(ChromeDriverManager().install())"
   ]
  },
  {
   "cell_type": "code",
   "execution_count": 30,
   "metadata": {},
   "outputs": [
    {
     "name": "stdout",
     "output_type": "stream",
     "text": [
      "Current IP Address: 185.220.102.253\n"
     ]
    }
   ],
   "source": [
    "def checkIP():\n",
    "    ip = requests.get('http://checkip.dyndns.org').content\n",
    "    soup = BeautifulSoup(ip, 'html.parser')\n",
    "    print(soup.find('body').text)\n",
    "\n",
    "checkIP()"
   ]
  },
  {
   "cell_type": "code",
   "execution_count": 45,
   "metadata": {},
   "outputs": [
    {
     "name": "stdout",
     "output_type": "stream",
     "text": [
      "Current IP Address: 109.70.100.49\n"
     ]
    }
   ],
   "source": [
    "import socks\n",
    "import socket\n",
    "\n",
    "\n",
    "socks.set_default_proxy(socks.SOCKS5, \"localhost\", 9150)\n",
    "socket.socket = socks.socksocket\n",
    "\n",
    "checkIP()"
   ]
  },
  {
   "cell_type": "code",
   "execution_count": 63,
   "metadata": {},
   "outputs": [],
   "source": [
    "path_head = 'https://nn.cian.ru/cat.php?deal_type=rent&engine_version=2&offer_type=flat&p='\n",
    "path_tail = '&region=4885&room1=1&room2=1&room3=1&room4=1&room5=1&room6=1&type=4'"
   ]
  },
  {
   "cell_type": "code",
   "execution_count": 55,
   "metadata": {},
   "outputs": [
    {
     "data": {
      "application/vnd.jupyter.widget-view+json": {
       "model_id": "bc30dce1c6fd48369962de85ee38726d",
       "version_major": 2,
       "version_minor": 0
      },
      "text/plain": [
       "HBox(children=(HTML(value=''), FloatProgress(value=0.0, max=52.0), HTML(value='')))"
      ]
     },
     "metadata": {},
     "output_type": "display_data"
    },
    {
     "name": "stdout",
     "output_type": "stream",
     "text": [
      "\n",
      "\n"
     ]
    }
   ],
   "source": [
    "links = []\n",
    "for page in tqdm(range(1,53)):\n",
    "    path = path_head + str(page) + path_tail\n",
    "    driver.get(path)\n",
    "    #time.sleep(0.5)\n",
    "    #response = requests.get(path, headers={'User-Agent': UserAgent().chrome})\n",
    "    tree = BeautifulSoup(driver.page_source, 'html.parser')\n",
    "    linkareas = tree.find_all('div', {'data-name' : 'LinkArea'})\n",
    "    for linkarea in linkareas:\n",
    "        links.append(linkarea.find('a').get('href'))"
   ]
  },
  {
   "cell_type": "code",
   "execution_count": 64,
   "metadata": {},
   "outputs": [
    {
     "name": "stdout",
     "output_type": "stream",
     "text": [
      "1457\n"
     ]
    }
   ],
   "source": [
    "print(len(links))"
   ]
  },
  {
   "cell_type": "markdown",
   "metadata": {},
   "source": [
    "### Парсим информацию о квартирах"
   ]
  },
  {
   "cell_type": "code",
   "execution_count": 45,
   "metadata": {},
   "outputs": [],
   "source": [
    "def new_flat(tree):\n",
    "    \"\"\"Принимает в качестве параметра html-дерево. С дерева собирает необходимую информацию. Возвращает словарь.\"\"\"\n",
    "    flat = {}\n",
    "    flat['roomsCount'] = tree.find_all('div', {'data-name' : 'OfferTitle'})[0].find('h1').text.split('.')[0]\n",
    "    flat['price'] = tree.find_all('span', {'itemprop' : 'price'})[0].get('content')\n",
    "    flat['address'] = tree.find_all('div', {'data-name' : 'Geo'})[0].find_all('span')[0].get('content')\n",
    "    try:\n",
    "        flat['tel'] = tree.find_all('div', {'data-name' : 'OfferContactsAside'})[0].find('a').get('href')\n",
    "    except:\n",
    "        pass\n",
    "    try:\n",
    "        flat['underground'] = tree.find_all('li', {'data-name' : 'renderUnderground'})[0].find('a').text\n",
    "        flat['undergroundTime'] = tree.find_all('li', {'data-name' : 'renderUnderground'})[0].find('span').text[4:]\n",
    "    except:\n",
    "        pass\n",
    "    try:\n",
    "        flat['deposit'], flat['comission'], flat['prepay'], _ =  tree.find_all('div', \n",
    "                    {'data-name' : 'OfferTerms'})[0].find('p').text.replace('\\xa0', ' ').split(', ')\n",
    "    except:\n",
    "        pass\n",
    "    try:    \n",
    "        flat['total_area'] = tree.find_all('div', text='Общая')[0].find_previous('div').text.replace('\\xa0', ' ')\n",
    "    except:\n",
    "        pass\n",
    "    try:\n",
    "        flat['living_area'] = tree.find_all('div', text='Жилая')[0].find_previous('div').text.replace('\\xa0', ' ')\n",
    "    except:\n",
    "        pass\n",
    "    try:\n",
    "        flat['kitchen_area'] = tree.find_all('div', text='Кухня')[0].find_previous('div').text.replace('\\xa0', ' ')\n",
    "    except:\n",
    "        pass\n",
    "    try:\n",
    "        flat['floor'] = tree.find_all('div', text='Этаж')[0].find_previous('div').text.replace('\\xa0', ' ')\n",
    "    except:\n",
    "        pass\n",
    "    try:\n",
    "        flat['build_year'] = tree.find_all('div', text='Построен')[0].find_previous('div').text.replace('\\xa0', ' ')\n",
    "    except:\n",
    "        pass\n",
    "    try:\n",
    "        tmp = str(tree.find_all('script', {'type' : 'text/javascript'}))\n",
    "        i1 = tmp.find('coordinates')\n",
    "        i2 = tmp.find('}', i1)\n",
    "        tmp_dict = ast.literal_eval(tmp[i1:i2+1].replace('coordinates\":', ''))\n",
    "        flat['lng'] = tmp_dict['lng']\n",
    "        flat['lat'] = tmp_dict['lat']\n",
    "    except:\n",
    "        pass\n",
    "    try:\n",
    "        flat['description'] = tree.find_all('div', {'data-name' : 'Description'})[0].find('p').text\n",
    "    except:\n",
    "        pass\n",
    "    return flat"
   ]
  },
  {
   "cell_type": "code",
   "execution_count": 54,
   "metadata": {},
   "outputs": [],
   "source": [
    "def parser(n):\n",
    "    \"\"\"Принимает в качестве параметра номер ссылки из списка links.\n",
    "    По ссылке выгружает html-дерево. Возвращает словарь \"\"\"\n",
    "    try:\n",
    "        driver.get(links[n])\n",
    "        html = driver.page_source\n",
    "    except:\n",
    "        return None\n",
    "    time.sleep(0.5)\n",
    "    tree = BeautifulSoup(html, 'html.parser')\n",
    "    n_jobs=2\n",
    "    flat = new_flat(tree)\n",
    "    flat['link'] = links[n]\n",
    "    #time.sleep(1)\n",
    "    return flat"
   ]
  },
  {
   "cell_type": "code",
   "execution_count": 56,
   "metadata": {},
   "outputs": [
    {
     "data": {
      "application/vnd.jupyter.widget-view+json": {
       "model_id": "4e0cdfd31a724b64a65e139da2db4fb5",
       "version_major": 2,
       "version_minor": 0
      },
      "text/plain": [
       "HBox(children=(HTML(value=''), FloatProgress(value=0.0, max=1457.0), HTML(value='')))"
      ]
     },
     "metadata": {},
     "output_type": "display_data"
    },
    {
     "name": "stdout",
     "output_type": "stream",
     "text": [
      "\n"
     ]
    }
   ],
   "source": [
    "list = [parser(n) for n in tqdm(range(len(links)))]"
   ]
  },
  {
   "cell_type": "code",
   "execution_count": 65,
   "metadata": {},
   "outputs": [
    {
     "data": {
      "text/html": [
       "<div>\n",
       "<style scoped>\n",
       "    .dataframe tbody tr th:only-of-type {\n",
       "        vertical-align: middle;\n",
       "    }\n",
       "\n",
       "    .dataframe tbody tr th {\n",
       "        vertical-align: top;\n",
       "    }\n",
       "\n",
       "    .dataframe thead th {\n",
       "        text-align: right;\n",
       "    }\n",
       "</style>\n",
       "<table border=\"1\" class=\"dataframe\">\n",
       "  <thead>\n",
       "    <tr style=\"text-align: right;\">\n",
       "      <th></th>\n",
       "      <th>roomsCount</th>\n",
       "      <th>price</th>\n",
       "      <th>address</th>\n",
       "      <th>tel</th>\n",
       "      <th>underground</th>\n",
       "      <th>undergroundTime</th>\n",
       "      <th>deposit</th>\n",
       "      <th>comission</th>\n",
       "      <th>prepay</th>\n",
       "      <th>total_area</th>\n",
       "      <th>living_area</th>\n",
       "      <th>kitchen_area</th>\n",
       "      <th>floor</th>\n",
       "      <th>build_year</th>\n",
       "      <th>lng</th>\n",
       "      <th>lat</th>\n",
       "      <th>description</th>\n",
       "      <th>link</th>\n",
       "    </tr>\n",
       "  </thead>\n",
       "  <tbody>\n",
       "    <tr>\n",
       "      <th>0</th>\n",
       "      <td>1-комн</td>\n",
       "      <td>30 000 ₽/мес.</td>\n",
       "      <td>Нижегородская область, Нижний Новгород, р-н Ни...</td>\n",
       "      <td>tel:+79587282362</td>\n",
       "      <td>Горьковская</td>\n",
       "      <td>24 мин. пешком</td>\n",
       "      <td>Залог 20 000 ₽</td>\n",
       "      <td>комиссия 60%</td>\n",
       "      <td>предоплата за 1 месяц</td>\n",
       "      <td>40 м²</td>\n",
       "      <td>20 м²</td>\n",
       "      <td>11 м²</td>\n",
       "      <td>5 из 9</td>\n",
       "      <td>1976</td>\n",
       "      <td>44.014134</td>\n",
       "      <td>56.326148</td>\n",
       "      <td>Сдается очень уютная и современная квартира ст...</td>\n",
       "      <td>https://nn.cian.ru/rent/flat/258002335/</td>\n",
       "    </tr>\n",
       "    <tr>\n",
       "      <th>1</th>\n",
       "      <td>1-комн</td>\n",
       "      <td>18 000 ₽/мес.</td>\n",
       "      <td>Нижегородская область, Нижний Новгород, р-н Ка...</td>\n",
       "      <td>tel:+79587281852</td>\n",
       "      <td>Стрелка</td>\n",
       "      <td>23 мин. пешком</td>\n",
       "      <td>Без залога</td>\n",
       "      <td>комиссия 60%</td>\n",
       "      <td>предоплата за 1 месяц</td>\n",
       "      <td>38 м²</td>\n",
       "      <td>20 м²</td>\n",
       "      <td>9 м²</td>\n",
       "      <td>6 из 12</td>\n",
       "      <td>2005</td>\n",
       "      <td>43.930699</td>\n",
       "      <td>56.346951</td>\n",
       "      <td>Сдаётся 1 комнатная квартира - студия. Только ...</td>\n",
       "      <td>https://nn.cian.ru/rent/flat/258046577/</td>\n",
       "    </tr>\n",
       "  </tbody>\n",
       "</table>\n",
       "</div>"
      ],
      "text/plain": [
       "  roomsCount          price  \\\n",
       "0     1-комн  30 000 ₽/мес.   \n",
       "1     1-комн  18 000 ₽/мес.   \n",
       "\n",
       "                                             address               tel  \\\n",
       "0  Нижегородская область, Нижний Новгород, р-н Ни...  tel:+79587282362   \n",
       "1  Нижегородская область, Нижний Новгород, р-н Ка...  tel:+79587281852   \n",
       "\n",
       "   underground undergroundTime         deposit     comission  \\\n",
       "0  Горьковская  24 мин. пешком  Залог 20 000 ₽  комиссия 60%   \n",
       "1      Стрелка  23 мин. пешком      Без залога  комиссия 60%   \n",
       "\n",
       "                  prepay total_area living_area kitchen_area    floor  \\\n",
       "0  предоплата за 1 месяц      40 м²       20 м²        11 м²   5 из 9   \n",
       "1  предоплата за 1 месяц      38 м²       20 м²         9 м²  6 из 12   \n",
       "\n",
       "  build_year        lng        lat  \\\n",
       "0       1976  44.014134  56.326148   \n",
       "1       2005  43.930699  56.346951   \n",
       "\n",
       "                                         description  \\\n",
       "0  Сдается очень уютная и современная квартира ст...   \n",
       "1  Сдаётся 1 комнатная квартира - студия. Только ...   \n",
       "\n",
       "                                      link  \n",
       "0  https://nn.cian.ru/rent/flat/258002335/  \n",
       "1  https://nn.cian.ru/rent/flat/258046577/  "
      ]
     },
     "execution_count": 65,
     "metadata": {},
     "output_type": "execute_result"
    }
   ],
   "source": [
    "df = pd.DataFrame(list)\n",
    "df.head(2)"
   ]
  },
  {
   "cell_type": "code",
   "execution_count": 66,
   "metadata": {},
   "outputs": [],
   "source": [
    "df.to_csv('raw_nino_flats_dataset.csv', index=False)"
   ]
  },
  {
   "cell_type": "code",
   "execution_count": 67,
   "metadata": {},
   "outputs": [],
   "source": [
    "dff = pd.read_csv('raw_nino_flats_dataset.csv')"
   ]
  },
  {
   "cell_type": "code",
   "execution_count": 68,
   "metadata": {
    "scrolled": true
   },
   "outputs": [
    {
     "data": {
      "text/html": [
       "<div>\n",
       "<style scoped>\n",
       "    .dataframe tbody tr th:only-of-type {\n",
       "        vertical-align: middle;\n",
       "    }\n",
       "\n",
       "    .dataframe tbody tr th {\n",
       "        vertical-align: top;\n",
       "    }\n",
       "\n",
       "    .dataframe thead th {\n",
       "        text-align: right;\n",
       "    }\n",
       "</style>\n",
       "<table border=\"1\" class=\"dataframe\">\n",
       "  <thead>\n",
       "    <tr style=\"text-align: right;\">\n",
       "      <th></th>\n",
       "      <th>roomsCount</th>\n",
       "      <th>price</th>\n",
       "      <th>address</th>\n",
       "      <th>tel</th>\n",
       "      <th>underground</th>\n",
       "      <th>undergroundTime</th>\n",
       "      <th>deposit</th>\n",
       "      <th>comission</th>\n",
       "      <th>prepay</th>\n",
       "      <th>total_area</th>\n",
       "      <th>living_area</th>\n",
       "      <th>kitchen_area</th>\n",
       "      <th>floor</th>\n",
       "      <th>build_year</th>\n",
       "      <th>lng</th>\n",
       "      <th>lat</th>\n",
       "      <th>description</th>\n",
       "      <th>link</th>\n",
       "    </tr>\n",
       "  </thead>\n",
       "  <tbody>\n",
       "    <tr>\n",
       "      <th>0</th>\n",
       "      <td>1-комн</td>\n",
       "      <td>30 000 ₽/мес.</td>\n",
       "      <td>Нижегородская область, Нижний Новгород, р-н Ни...</td>\n",
       "      <td>tel:+79587282362</td>\n",
       "      <td>Горьковская</td>\n",
       "      <td>24 мин. пешком</td>\n",
       "      <td>Залог 20 000 ₽</td>\n",
       "      <td>комиссия 60%</td>\n",
       "      <td>предоплата за 1 месяц</td>\n",
       "      <td>40 м²</td>\n",
       "      <td>20 м²</td>\n",
       "      <td>11 м²</td>\n",
       "      <td>5 из 9</td>\n",
       "      <td>1976.0</td>\n",
       "      <td>44.014134</td>\n",
       "      <td>56.326148</td>\n",
       "      <td>Сдается очень уютная и современная квартира ст...</td>\n",
       "      <td>https://nn.cian.ru/rent/flat/258002335/</td>\n",
       "    </tr>\n",
       "    <tr>\n",
       "      <th>1</th>\n",
       "      <td>1-комн</td>\n",
       "      <td>18 000 ₽/мес.</td>\n",
       "      <td>Нижегородская область, Нижний Новгород, р-н Ка...</td>\n",
       "      <td>tel:+79587281852</td>\n",
       "      <td>Стрелка</td>\n",
       "      <td>23 мин. пешком</td>\n",
       "      <td>Без залога</td>\n",
       "      <td>комиссия 60%</td>\n",
       "      <td>предоплата за 1 месяц</td>\n",
       "      <td>38 м²</td>\n",
       "      <td>20 м²</td>\n",
       "      <td>9 м²</td>\n",
       "      <td>6 из 12</td>\n",
       "      <td>2005.0</td>\n",
       "      <td>43.930699</td>\n",
       "      <td>56.346951</td>\n",
       "      <td>Сдаётся 1 комнатная квартира - студия. Только ...</td>\n",
       "      <td>https://nn.cian.ru/rent/flat/258046577/</td>\n",
       "    </tr>\n",
       "  </tbody>\n",
       "</table>\n",
       "</div>"
      ],
      "text/plain": [
       "  roomsCount          price  \\\n",
       "0     1-комн  30 000 ₽/мес.   \n",
       "1     1-комн  18 000 ₽/мес.   \n",
       "\n",
       "                                             address               tel  \\\n",
       "0  Нижегородская область, Нижний Новгород, р-н Ни...  tel:+79587282362   \n",
       "1  Нижегородская область, Нижний Новгород, р-н Ка...  tel:+79587281852   \n",
       "\n",
       "   underground undergroundTime         deposit     comission  \\\n",
       "0  Горьковская  24 мин. пешком  Залог 20 000 ₽  комиссия 60%   \n",
       "1      Стрелка  23 мин. пешком      Без залога  комиссия 60%   \n",
       "\n",
       "                  prepay total_area living_area kitchen_area    floor  \\\n",
       "0  предоплата за 1 месяц      40 м²       20 м²        11 м²   5 из 9   \n",
       "1  предоплата за 1 месяц      38 м²       20 м²         9 м²  6 из 12   \n",
       "\n",
       "   build_year        lng        lat  \\\n",
       "0      1976.0  44.014134  56.326148   \n",
       "1      2005.0  43.930699  56.346951   \n",
       "\n",
       "                                         description  \\\n",
       "0  Сдается очень уютная и современная квартира ст...   \n",
       "1  Сдаётся 1 комнатная квартира - студия. Только ...   \n",
       "\n",
       "                                      link  \n",
       "0  https://nn.cian.ru/rent/flat/258002335/  \n",
       "1  https://nn.cian.ru/rent/flat/258046577/  "
      ]
     },
     "execution_count": 68,
     "metadata": {},
     "output_type": "execute_result"
    }
   ],
   "source": [
    "dff.head(2)"
   ]
  }
 ],
 "metadata": {
  "kernelspec": {
   "display_name": "Python 3",
   "language": "python",
   "name": "python3"
  },
  "language_info": {
   "codemirror_mode": {
    "name": "ipython",
    "version": 3
   },
   "file_extension": ".py",
   "mimetype": "text/x-python",
   "name": "python",
   "nbconvert_exporter": "python",
   "pygments_lexer": "ipython3",
   "version": "3.8.5"
  }
 },
 "nbformat": 4,
 "nbformat_minor": 4
}
