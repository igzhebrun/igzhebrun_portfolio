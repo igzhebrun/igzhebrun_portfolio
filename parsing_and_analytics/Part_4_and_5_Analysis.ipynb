{
 "cells": [
  {
   "cell_type": "markdown",
   "metadata": {},
   "source": [
    "# STEP №4"
   ]
  },
  {
   "cell_type": "code",
   "execution_count": 1,
   "metadata": {},
   "outputs": [],
   "source": [
    "import pandas as pd\n",
    "import matplotlib.pyplot as plt"
   ]
  },
  {
   "cell_type": "code",
   "execution_count": 2,
   "metadata": {},
   "outputs": [
    {
     "data": {
      "text/html": [
       "<div>\n",
       "<style scoped>\n",
       "    .dataframe tbody tr th:only-of-type {\n",
       "        vertical-align: middle;\n",
       "    }\n",
       "\n",
       "    .dataframe tbody tr th {\n",
       "        vertical-align: top;\n",
       "    }\n",
       "\n",
       "    .dataframe thead th {\n",
       "        text-align: right;\n",
       "    }\n",
       "</style>\n",
       "<table border=\"1\" class=\"dataframe\">\n",
       "  <thead>\n",
       "    <tr style=\"text-align: right;\">\n",
       "      <th></th>\n",
       "      <th>rooms</th>\n",
       "      <th>price</th>\n",
       "      <th>price_on_m</th>\n",
       "      <th>first_pay</th>\n",
       "      <th>total_area</th>\n",
       "      <th>living_area</th>\n",
       "      <th>kitchen_area</th>\n",
       "      <th>deposit</th>\n",
       "      <th>comission</th>\n",
       "      <th>prepay</th>\n",
       "      <th>...</th>\n",
       "      <th>und_type</th>\n",
       "      <th>und_dist</th>\n",
       "      <th>floor</th>\n",
       "      <th>floor_cnt</th>\n",
       "      <th>build_year</th>\n",
       "      <th>lng</th>\n",
       "      <th>lat</th>\n",
       "      <th>link</th>\n",
       "      <th>tel</th>\n",
       "      <th>description</th>\n",
       "    </tr>\n",
       "  </thead>\n",
       "  <tbody>\n",
       "    <tr>\n",
       "      <th>0</th>\n",
       "      <td>1</td>\n",
       "      <td>30000</td>\n",
       "      <td>750.00</td>\n",
       "      <td>68000.0</td>\n",
       "      <td>40.0</td>\n",
       "      <td>20.0</td>\n",
       "      <td>11.0</td>\n",
       "      <td>20000.0</td>\n",
       "      <td>60.0</td>\n",
       "      <td>1.0</td>\n",
       "      <td>...</td>\n",
       "      <td>пешком</td>\n",
       "      <td>2160.0</td>\n",
       "      <td>5</td>\n",
       "      <td>9</td>\n",
       "      <td>1976.0</td>\n",
       "      <td>44.014134</td>\n",
       "      <td>56.326148</td>\n",
       "      <td>https://nn.cian.ru/rent/flat/258002335/</td>\n",
       "      <td>tel:+79587282362</td>\n",
       "      <td>Сдается очень уютная и современная квартира ст...</td>\n",
       "    </tr>\n",
       "    <tr>\n",
       "      <th>1</th>\n",
       "      <td>1</td>\n",
       "      <td>18000</td>\n",
       "      <td>473.68</td>\n",
       "      <td>28800.0</td>\n",
       "      <td>38.0</td>\n",
       "      <td>20.0</td>\n",
       "      <td>9.0</td>\n",
       "      <td>0.0</td>\n",
       "      <td>60.0</td>\n",
       "      <td>1.0</td>\n",
       "      <td>...</td>\n",
       "      <td>пешком</td>\n",
       "      <td>2070.0</td>\n",
       "      <td>6</td>\n",
       "      <td>12</td>\n",
       "      <td>2005.0</td>\n",
       "      <td>43.930699</td>\n",
       "      <td>56.346951</td>\n",
       "      <td>https://nn.cian.ru/rent/flat/258046577/</td>\n",
       "      <td>tel:+79587281852</td>\n",
       "      <td>Сдаётся 1 комнатная квартира - студия. Только ...</td>\n",
       "    </tr>\n",
       "  </tbody>\n",
       "</table>\n",
       "<p>2 rows × 22 columns</p>\n",
       "</div>"
      ],
      "text/plain": [
       "   rooms  price  price_on_m  first_pay  total_area  living_area  kitchen_area  \\\n",
       "0      1  30000      750.00    68000.0        40.0         20.0          11.0   \n",
       "1      1  18000      473.68    28800.0        38.0         20.0           9.0   \n",
       "\n",
       "   deposit  comission  prepay  ... und_type  und_dist floor  floor_cnt  \\\n",
       "0  20000.0       60.0     1.0  ...   пешком    2160.0     5          9   \n",
       "1      0.0       60.0     1.0  ...   пешком    2070.0     6         12   \n",
       "\n",
       "   build_year        lng        lat                                     link  \\\n",
       "0      1976.0  44.014134  56.326148  https://nn.cian.ru/rent/flat/258002335/   \n",
       "1      2005.0  43.930699  56.346951  https://nn.cian.ru/rent/flat/258046577/   \n",
       "\n",
       "                tel                                        description  \n",
       "0  tel:+79587282362  Сдается очень уютная и современная квартира ст...  \n",
       "1  tel:+79587281852  Сдаётся 1 комнатная квартира - студия. Только ...  \n",
       "\n",
       "[2 rows x 22 columns]"
      ]
     },
     "execution_count": 2,
     "metadata": {},
     "output_type": "execute_result"
    }
   ],
   "source": [
    "df = pd.read_csv('nino_flats_dataset.csv')\n",
    "df.head(2)"
   ]
  },
  {
   "cell_type": "code",
   "execution_count": 3,
   "metadata": {},
   "outputs": [
    {
     "name": "stdout",
     "output_type": "stream",
     "text": [
      "Text(0.5, 1.0, 'График распределения квартир по этажам')\n"
     ]
    },
    {
     "data": {
      "image/png": "[encoded data removed]",
      "text/plain": [
       "<Figure size 576x288 with 1 Axes>"
      ]
     },
     "metadata": {
      "needs_background": "light"
     },
     "output_type": "display_data"
    }
   ],
   "source": [
    "d = df.groupby('floor').count()['price']\n",
    "b = d.plot.bar(color='blue', figsize= (8,4))\n",
    "b.legend().set_visible(False)\n",
    "b = plt.xlabel('этаж')\n",
    "b = plt.ylabel('количество квартир')\n",
    "b = plt.title('График распределения квартир по этажам')\n",
    "print(b)"
   ]
  },
  {
   "cell_type": "code",
   "execution_count": 10,
   "metadata": {},
   "outputs": [
    {
     "name": "stdout",
     "output_type": "stream",
     "text": [
      "1) rooms: 1\n",
      "price: 30000\n",
      "price_on_m: 750.0\n",
      "first_pay: 68000.0\n",
      "total_area: 40.0\n",
      "living_area: 20.0\n",
      "kitchen_area: 11.0\n",
      "deposit: 20000.0\n",
      "comission: 60.0\n",
      "prepay: 1.0\n",
      "und: Горьковская\n",
      "und_time: 24.0\n",
      "und_type: пешком\n",
      "und_dist: 2160.0\n",
      "floor: 5\n",
      "floor_cnt: 9\n",
      "build_year: 1976.0\n",
      "lng: 44.01413400000001\n",
      "lat: 56.326148\n",
      "link: https://nn.cian.ru/rent/flat/258002335/\n",
      "tel: tel:+79587282362\n",
      "description: Сдается очень уютная и современная квартира студийной планировки с ремонтом по дизайн-проекту. Ремонт делался для себя качественными материалами. Получилась выделенная спальная зона и кухня-гостиная с лаунж-зоной напротив экрана с проектором (проектор с выходом в интернет и можно смотреть обычные каналы).\r\n",
      "Кухонный гарнитур со встроенной бытовой техникой и посудомоечной машиной. Есть небольшая гардеробная, полноценная двуспальная кровать с ортопедическим матрацем.\r\n",
      "Для комфортного проживания в летнюю жару установлен кондиционер.\r\n",
      "Очень удобно что на придомовой территории установлен шлагбаум - можно парковаться жителям этого дома. В центре города это очень важно. \r\n",
      "Рядом с домом есть продуктовый магазин, кафе Волконский, сквер, в пешей доступности самые красивые места в городе - Верхне-волжская Набережная и Юольшая Покровская, пл. Минина.\r\n",
      "Рядом находятся Центр международной торговли, Сбербанк, Яндекс и офисы других крупных компаний.\r\n",
      "В стоимость аренды велючена генеральная уборка квартиры раз в месяц.\n",
      "comission_in_r: 1800000.0\n",
      "\n",
      "2) rooms: 1\n",
      "price: 18000\n",
      "price_on_m: 473.68\n",
      "first_pay: 28800.0\n",
      "total_area: 38.0\n",
      "living_area: 20.0\n",
      "kitchen_area: 9.0\n",
      "deposit: 0.0\n",
      "comission: 60.0\n",
      "prepay: 1.0\n",
      "und: Стрелка\n",
      "und_time: 23.0\n",
      "und_type: пешком\n",
      "und_dist: 2070.0\n",
      "floor: 6\n",
      "floor_cnt: 12\n",
      "build_year: 2005.0\n",
      "lng: 43.930699\n",
      "lat: 56.346951\n",
      "link: https://nn.cian.ru/rent/flat/258046577/\n",
      "tel: tel:+79587281852\n",
      "description: Сдаётся 1 комнатная квартира - студия. Только что сделан качественный ремонт, сан узел - кафель, натяжные потолки. Новая мебель (диван и кресло - кровать). Заезжай и живи. Ни кто ни разу не проживал. Фото соответствует на 100 %. Квартира сдаётся на длительный срок от агентства недвижимости, оплата комиссионного вознаграждения после подписания договора с собственником квартиры и передачи ключей от неё. В офис ехать не нужно! Отдельно оплачивается только свет и вода по счётчику.\n",
      "comission_in_r: 1080000.0\n",
      "\n",
      "3) rooms: 2\n",
      "price: 30000\n",
      "price_on_m: 652.17\n",
      "first_pay: 71000.0\n",
      "total_area: 46.0\n",
      "living_area: 24.1\n",
      "kitchen_area: 18.0\n",
      "deposit: 20000.0\n",
      "comission: 70.0\n",
      "prepay: 1.0\n",
      "und: Ленинская\n",
      "und_time: 4.0\n",
      "und_type: пешком\n",
      "und_dist: 360.0\n",
      "floor: 2\n",
      "floor_cnt: 6\n",
      "build_year: 2013.0\n",
      "lng: 43.941972\n",
      "lat: 56.300849\n",
      "link: https://nn.cian.ru/rent/flat/224126625/\n",
      "tel: tel:+79587280118\n",
      "description: ЭКСКЛЮЗИВ!\r\n",
      "Сдам евро  2хкомнатную квартиру (кухня-гостинная+спальня) в элитном новом доме на ул.Мичурина в районе Управления Железной Дороги.\r\n",
      "Квартира с дорогим ремонтом,всей дорогой бытовой техникой и мебелью.\r\n",
      "Квартира полностью оборудована всем;кондиционер,видеодомофон,дорогой матрац.\r\n",
      "Есть грузовой лифт (несмотря на 6 этажей),всего 4 квартиры на этаже.\r\n",
      "Рядом улицы Октябрьской революции,Июльских дней,пр.Ленина,метро Ленинская и др.Не информационное офисное агентство.На показ выезжаю.\n",
      "comission_in_r: 2100000.0\n",
      "\n",
      "4) rooms: 1\n",
      "price: 11000\n",
      "price_on_m: 282.05\n",
      "first_pay: 16500.0\n",
      "total_area: 39.0\n",
      "living_area: 20.0\n",
      "kitchen_area: 9.0\n",
      "deposit: 0.0\n",
      "comission: 50.0\n",
      "prepay: 1.0\n",
      "und: Буревестник\n",
      "und_time: 38.0\n",
      "und_type: пешком\n",
      "und_dist: 3420.0\n",
      "floor: 9\n",
      "floor_cnt: 9\n",
      "build_year: 1992.0\n",
      "lng: 43.853605\n",
      "lat: 56.32807\n",
      "link: https://nn.cian.ru/rent/flat/257580439/\n",
      "tel: tel:+79918998128\n",
      "description: Сдается однокомнатная квартира с мебелью и бытовой техникой!\r\n",
      "На длительный срок!\r\n",
      "Фото соответствует!\r\n",
      "Ключи.\r\n",
      "11000+счетчики\n",
      "comission_in_r: 550000.0\n",
      "\n",
      "5) rooms: 1\n",
      "price: 13900\n",
      "price_on_m: 445.51\n",
      "first_pay: 13900.0\n",
      "total_area: 31.2\n",
      "living_area: 16.0\n",
      "kitchen_area: 6.0\n",
      "deposit: 0.0\n",
      "comission: 0.0\n",
      "prepay: 1.0\n",
      "und: Парк культуры\n",
      "und_time: 15.0\n",
      "und_type: на транспорте\n",
      "und_dist: 10500.0\n",
      "floor: 2\n",
      "floor_cnt: 10\n",
      "build_year: 2011.0\n",
      "lng: 43.830698\n",
      "lat: 56.237247\n",
      "link: https://nn.cian.ru/rent/flat/257685994/\n",
      "tel: tel:+79587290565\n",
      "description: Сдаётся уютная 1-комнатная квартира с хорошим ремонтом, раздельным санузлом и лоджией в ЖК Спутник, без депозита! Коммунальные услуги и счётчики оплачиваются отдельно. Квартира оборудована кухонным гарнитуром, мебелью и бытовой техникой. Есть микроволновая печь, холодильник, плита, душ, утюг и стиральная машина. Проведён интернет с Wi-Fi. Окна выходят во двор, есть бесплатная парковка.\r\n",
      "\r\n",
      "До м. Парк Культуры  15 минут на общественном транспорте.\r\n",
      "\r\n",
      "Дом находится в районе с развитой инфраструктурой: в пешей доступности  школы и детские сады, продуктовые супермаркеты, стадион и фитнес-клуб, кафе, бары, детская поликлиника, заправки и автосервисы. Недалеко Автозаводской парк.\n",
      "comission_in_r: 0.0\n",
      "\n"
     ]
    }
   ],
   "source": [
    "cols = df.columns\n",
    "for i, data in df.head().iterrows():\n",
    "    s +=f'{i+1}) '\n",
    "    for col in cols:\n",
    "        s += f'{col}: {data[col]}\\n'\n",
    "    print(s, end='\\n')"
   ]
  },
  {
   "cell_type": "code",
   "execution_count": 14,
   "metadata": {},
   "outputs": [],
   "source": [
    "def df_to_str(df):\n",
    "    s = ''\n",
    "    cols = df.columns\n",
    "    for i, data in df.head().iterrows():\n",
    "        s +=f'{i+1}) '\n",
    "        for col in cols:\n",
    "            s += f'{col}: {data[col]}\\n'\n",
    "        s += '\\n'\n",
    "    return s"
   ]
  },
  {
   "cell_type": "code",
   "execution_count": 15,
   "metadata": {},
   "outputs": [
    {
     "name": "stdout",
     "output_type": "stream",
     "text": [
      "1) rooms: 1\n",
      "price: 30000\n",
      "price_on_m: 750.0\n",
      "first_pay: 68000.0\n",
      "total_area: 40.0\n",
      "living_area: 20.0\n",
      "kitchen_area: 11.0\n",
      "deposit: 20000.0\n",
      "comission: 60.0\n",
      "prepay: 1.0\n",
      "und: Горьковская\n",
      "und_time: 24.0\n",
      "und_type: пешком\n",
      "und_dist: 2160.0\n",
      "floor: 5\n",
      "floor_cnt: 9\n",
      "build_year: 1976.0\n",
      "lng: 44.01413400000001\n",
      "lat: 56.326148\n",
      "link: https://nn.cian.ru/rent/flat/258002335/\n",
      "tel: tel:+79587282362\n",
      "description: Сдается очень уютная и современная квартира студийной планировки с ремонтом по дизайн-проекту. Ремонт делался для себя качественными материалами. Получилась выделенная спальная зона и кухня-гостиная с лаунж-зоной напротив экрана с проектором (проектор с выходом в интернет и можно смотреть обычные каналы).\r\n",
      "Кухонный гарнитур со встроенной бытовой техникой и посудомоечной машиной. Есть небольшая гардеробная, полноценная двуспальная кровать с ортопедическим матрацем.\r\n",
      "Для комфортного проживания в летнюю жару установлен кондиционер.\r\n",
      "Очень удобно что на придомовой территории установлен шлагбаум - можно парковаться жителям этого дома. В центре города это очень важно. \r\n",
      "Рядом с домом есть продуктовый магазин, кафе Волконский, сквер, в пешей доступности самые красивые места в городе - Верхне-волжская Набережная и Юольшая Покровская, пл. Минина.\r\n",
      "Рядом находятся Центр международной торговли, Сбербанк, Яндекс и офисы других крупных компаний.\r\n",
      "В стоимость аренды велючена генеральная уборка квартиры раз в месяц.\n",
      "comission_in_r: 1800000.0\n",
      "\n",
      "2) rooms: 1\n",
      "price: 18000\n",
      "price_on_m: 473.68\n",
      "first_pay: 28800.0\n",
      "total_area: 38.0\n",
      "living_area: 20.0\n",
      "kitchen_area: 9.0\n",
      "deposit: 0.0\n",
      "comission: 60.0\n",
      "prepay: 1.0\n",
      "und: Стрелка\n",
      "und_time: 23.0\n",
      "und_type: пешком\n",
      "und_dist: 2070.0\n",
      "floor: 6\n",
      "floor_cnt: 12\n",
      "build_year: 2005.0\n",
      "lng: 43.930699\n",
      "lat: 56.346951\n",
      "link: https://nn.cian.ru/rent/flat/258046577/\n",
      "tel: tel:+79587281852\n",
      "description: Сдаётся 1 комнатная квартира - студия. Только что сделан качественный ремонт, сан узел - кафель, натяжные потолки. Новая мебель (диван и кресло - кровать). Заезжай и живи. Ни кто ни разу не проживал. Фото соответствует на 100 %. Квартира сдаётся на длительный срок от агентства недвижимости, оплата комиссионного вознаграждения после подписания договора с собственником квартиры и передачи ключей от неё. В офис ехать не нужно! Отдельно оплачивается только свет и вода по счётчику.\n",
      "comission_in_r: 1080000.0\n",
      "\n",
      "\n"
     ]
    }
   ],
   "source": [
    "print(df_to_str(df.head(2)))"
   ]
  },
  {
   "cell_type": "code",
   "execution_count": 18,
   "metadata": {},
   "outputs": [],
   "source": [
    "def best_seller(df):\n",
    "    df['comission_in_tr'] = df['comission'] * df['price'] / 1000\n",
    "    result = df.groupby(['tel'], as_index = False)['comission_in_tr'].\\\n",
    "    sum().sort_values(by='comission_in_tr', ascending=False).head(5)\n",
    "    return result"
   ]
  },
  {
   "cell_type": "code",
   "execution_count": 19,
   "metadata": {},
   "outputs": [
    {
     "ename": "AttributeError",
     "evalue": "'DataFrame' object has no attribute 'drop_index'",
     "output_type": "error",
     "traceback": [
      "\u001b[1;31m---------------------------------------------------------------------------\u001b[0m",
      "\u001b[1;31mAttributeError\u001b[0m                            Traceback (most recent call last)",
      "\u001b[1;32m<ipython-input-19-8d3e926f6330>\u001b[0m in \u001b[0;36m<module>\u001b[1;34m\u001b[0m\n\u001b[1;32m----> 1\u001b[1;33m \u001b[0mr\u001b[0m \u001b[1;33m=\u001b[0m \u001b[0mbest_seller\u001b[0m\u001b[1;33m(\u001b[0m\u001b[0mdf\u001b[0m\u001b[1;33m)\u001b[0m\u001b[1;33m\u001b[0m\u001b[1;33m\u001b[0m\u001b[0m\n\u001b[0m\u001b[0;32m      2\u001b[0m \u001b[0mprint\u001b[0m\u001b[1;33m(\u001b[0m\u001b[0mdf_to_str\u001b[0m\u001b[1;33m(\u001b[0m\u001b[0mr\u001b[0m\u001b[1;33m)\u001b[0m\u001b[1;33m)\u001b[0m\u001b[1;33m\u001b[0m\u001b[1;33m\u001b[0m\u001b[0m\n",
      "\u001b[1;32m<ipython-input-18-a18222f91e1d>\u001b[0m in \u001b[0;36mbest_seller\u001b[1;34m(df)\u001b[0m\n\u001b[0;32m      1\u001b[0m \u001b[1;32mdef\u001b[0m \u001b[0mbest_seller\u001b[0m\u001b[1;33m(\u001b[0m\u001b[0mdf\u001b[0m\u001b[1;33m)\u001b[0m\u001b[1;33m:\u001b[0m\u001b[1;33m\u001b[0m\u001b[1;33m\u001b[0m\u001b[0m\n\u001b[0;32m      2\u001b[0m     \u001b[0mdf\u001b[0m\u001b[1;33m[\u001b[0m\u001b[1;34m'comission_in_tr'\u001b[0m\u001b[1;33m]\u001b[0m \u001b[1;33m=\u001b[0m \u001b[0mdf\u001b[0m\u001b[1;33m[\u001b[0m\u001b[1;34m'comission'\u001b[0m\u001b[1;33m]\u001b[0m \u001b[1;33m*\u001b[0m \u001b[0mdf\u001b[0m\u001b[1;33m[\u001b[0m\u001b[1;34m'price'\u001b[0m\u001b[1;33m]\u001b[0m \u001b[1;33m/\u001b[0m \u001b[1;36m1000\u001b[0m\u001b[1;33m\u001b[0m\u001b[1;33m\u001b[0m\u001b[0m\n\u001b[1;32m----> 3\u001b[1;33m     \u001b[0mresult\u001b[0m \u001b[1;33m=\u001b[0m \u001b[0mdf\u001b[0m\u001b[1;33m.\u001b[0m\u001b[0mgroupby\u001b[0m\u001b[1;33m(\u001b[0m\u001b[1;33m[\u001b[0m\u001b[1;34m'tel'\u001b[0m\u001b[1;33m]\u001b[0m\u001b[1;33m,\u001b[0m \u001b[0mas_index\u001b[0m \u001b[1;33m=\u001b[0m \u001b[1;32mFalse\u001b[0m\u001b[1;33m)\u001b[0m\u001b[1;33m[\u001b[0m\u001b[1;34m'comission_in_tr'\u001b[0m\u001b[1;33m]\u001b[0m\u001b[1;33m.\u001b[0m\u001b[0;31m\\\u001b[0m\u001b[1;33m\u001b[0m\u001b[1;33m\u001b[0m\u001b[0m\n\u001b[0m\u001b[0;32m      4\u001b[0m     \u001b[0msum\u001b[0m\u001b[1;33m(\u001b[0m\u001b[1;33m)\u001b[0m\u001b[1;33m.\u001b[0m\u001b[0msort_values\u001b[0m\u001b[1;33m(\u001b[0m\u001b[0mby\u001b[0m\u001b[1;33m=\u001b[0m\u001b[1;34m'comission_in_tr'\u001b[0m\u001b[1;33m,\u001b[0m \u001b[0mascending\u001b[0m\u001b[1;33m=\u001b[0m\u001b[1;32mFalse\u001b[0m\u001b[1;33m)\u001b[0m\u001b[1;33m.\u001b[0m\u001b[0mhead\u001b[0m\u001b[1;33m(\u001b[0m\u001b[1;36m5\u001b[0m\u001b[1;33m)\u001b[0m\u001b[1;33m.\u001b[0m\u001b[0mdrop_index\u001b[0m\u001b[1;33m(\u001b[0m\u001b[1;33m)\u001b[0m\u001b[1;33m\u001b[0m\u001b[1;33m\u001b[0m\u001b[0m\n\u001b[0;32m      5\u001b[0m     \u001b[1;32mreturn\u001b[0m \u001b[0mresult\u001b[0m\u001b[1;33m\u001b[0m\u001b[1;33m\u001b[0m\u001b[0m\n",
      "\u001b[1;32m~\\anaconda3\\lib\\site-packages\\pandas\\core\\generic.py\u001b[0m in \u001b[0;36m__getattr__\u001b[1;34m(self, name)\u001b[0m\n\u001b[0;32m   5137\u001b[0m             \u001b[1;32mif\u001b[0m \u001b[0mself\u001b[0m\u001b[1;33m.\u001b[0m\u001b[0m_info_axis\u001b[0m\u001b[1;33m.\u001b[0m\u001b[0m_can_hold_identifiers_and_holds_name\u001b[0m\u001b[1;33m(\u001b[0m\u001b[0mname\u001b[0m\u001b[1;33m)\u001b[0m\u001b[1;33m:\u001b[0m\u001b[1;33m\u001b[0m\u001b[1;33m\u001b[0m\u001b[0m\n\u001b[0;32m   5138\u001b[0m                 \u001b[1;32mreturn\u001b[0m \u001b[0mself\u001b[0m\u001b[1;33m[\u001b[0m\u001b[0mname\u001b[0m\u001b[1;33m]\u001b[0m\u001b[1;33m\u001b[0m\u001b[1;33m\u001b[0m\u001b[0m\n\u001b[1;32m-> 5139\u001b[1;33m             \u001b[1;32mreturn\u001b[0m \u001b[0mobject\u001b[0m\u001b[1;33m.\u001b[0m\u001b[0m__getattribute__\u001b[0m\u001b[1;33m(\u001b[0m\u001b[0mself\u001b[0m\u001b[1;33m,\u001b[0m \u001b[0mname\u001b[0m\u001b[1;33m)\u001b[0m\u001b[1;33m\u001b[0m\u001b[1;33m\u001b[0m\u001b[0m\n\u001b[0m\u001b[0;32m   5140\u001b[0m \u001b[1;33m\u001b[0m\u001b[0m\n\u001b[0;32m   5141\u001b[0m     \u001b[1;32mdef\u001b[0m \u001b[0m__setattr__\u001b[0m\u001b[1;33m(\u001b[0m\u001b[0mself\u001b[0m\u001b[1;33m,\u001b[0m \u001b[0mname\u001b[0m\u001b[1;33m:\u001b[0m \u001b[0mstr\u001b[0m\u001b[1;33m,\u001b[0m \u001b[0mvalue\u001b[0m\u001b[1;33m)\u001b[0m \u001b[1;33m->\u001b[0m \u001b[1;32mNone\u001b[0m\u001b[1;33m:\u001b[0m\u001b[1;33m\u001b[0m\u001b[1;33m\u001b[0m\u001b[0m\n",
      "\u001b[1;31mAttributeError\u001b[0m: 'DataFrame' object has no attribute 'drop_index'"
     ]
    }
   ],
   "source": [
    "r = best_seller(df)\n",
    "print(df_to_str(r))"
   ]
  },
  {
   "cell_type": "markdown",
   "metadata": {},
   "source": [
    "Данный график показывает, что большинство сдаваемых в аренду квартир находятся на 2-4 этажах, меньше всего же на 19-25."
   ]
  },
  {
   "cell_type": "code",
   "execution_count": 4,
   "metadata": {},
   "outputs": [
    {
     "name": "stdout",
     "output_type": "stream",
     "text": [
      "Text(0.5, 1.0, 'Распределения квартир по количеству комнат')\n"
     ]
    },
    {
     "data": {
      "image/png": "[encoded data removed]",
      "text/plain": [
       "<Figure size 432x288 with 1 Axes>"
      ]
     },
     "metadata": {},
     "output_type": "display_data"
    }
   ],
   "source": [
    "d = list(df.groupby('rooms').count()['price'])\n",
    "roomss = list(df['rooms'])\n",
    "setroomss = list(set(roomss))\n",
    "b = plt.pie(d, labels=setroomss, autopct='%1.1f%%')\n",
    "b = plt.title('Распределения квартир по количеству комнат')\n",
    "print(b)"
   ]
  },
  {
   "cell_type": "markdown",
   "metadata": {},
   "source": [
    "Данная диаграмма показывает, что больше половины сдаваемых в аренду квартир являются однокомнатными, треть - двухкомнатными, десятую часть занимают трехкомнатные, и наименьшую долю занимают четырехкомнатные и пятикомнатные квартиры (их общая доля меньше 2% от общего числа)"
   ]
  },
  {
   "cell_type": "code",
   "execution_count": 5,
   "metadata": {},
   "outputs": [
    {
     "name": "stdout",
     "output_type": "stream",
     "text": [
      "Text(0.5, 1.0, 'График распределения квартир по ближайшим станциям метро')\n"
     ]
    },
    {
     "data": {
      "image/png": "[encoded data removed]",
      "text/plain": [
       "<Figure size 432x288 with 1 Axes>"
      ]
     },
     "metadata": {
      "needs_background": "light"
     },
     "output_type": "display_data"
    }
   ],
   "source": [
    "undergrounds = list(df['und'])\n",
    "undergroundstr = pd.isnull(undergrounds)\n",
    "newundergrounds = []\n",
    "for i in range(len(undergrounds)):\n",
    "    if undergroundstr[i] == False:\n",
    "        newundergrounds.append(undergrounds[i])\n",
    "setundergrounds = list(set(newundergrounds))\n",
    "\n",
    "flat_amounts = []\n",
    "for i in range(len(setundergrounds)):\n",
    "    mm = 0\n",
    "    for g in range(len(newundergrounds)):\n",
    "        if newundergrounds[g] == setundergrounds[i]:\n",
    "            mm +=1\n",
    "    flat_amounts.append(mm) \n",
    "#print(setundergrounds)\n",
    "#print(flat_amounts)\n",
    "\n",
    "b = plt.barh(setundergrounds, flat_amounts, color='red')\n",
    "b = plt.xlabel('количество квартир')\n",
    "b = plt.ylabel('ближайшая станция метро')\n",
    "b = plt.title('График распределения квартир по ближайшим станциям метро')\n",
    "print(b)"
   ]
  },
  {
   "cell_type": "markdown",
   "metadata": {},
   "source": [
    "Из гистограммы видно, что наибольшее количество квартир, сдаваемых в аренду, сосредоточено вокруг станции метро Горьковская. Это может быть связано с тем, что возле этой станции может находиться крупный жилой комплекс. Также не мало квартир находиться возле станций Парк культуры и Буревестник."
   ]
  },
  {
   "cell_type": "code",
   "execution_count": 6,
   "metadata": {},
   "outputs": [
    {
     "name": "stdout",
     "output_type": "stream",
     "text": [
      "Text(0.5, 1.0, 'Зависимость цены от жилой площади квартиры')\n"
     ]
    },
    {
     "data": {
      "image/png": "[encoded data removed]",
      "text/plain": [
       "<Figure size 432x288 with 1 Axes>"
      ]
     },
     "metadata": {
      "needs_background": "light"
     },
     "output_type": "display_data"
    }
   ],
   "source": [
    "x = list(df['living_area'])\n",
    "y = list(df['price'])\n",
    "b = plt.scatter(x, y, s=5, color='green')\n",
    "b = plt.xlabel('жилая площадь квартиры')\n",
    "b = plt.ylabel('цена')\n",
    "b = plt.title('Зависимость цены от жилой площади квартиры')\n",
    "print(b)"
   ]
  },
  {
   "cell_type": "markdown",
   "metadata": {},
   "source": [
    "На данном графике четко прослеживается зависимость между ценой аренды квартиры и её площадью, хотя с ростом жилой площади наблюдается определенное расширение интервалов цен. Данное явление может быть связано с тем, что при найме квартиры с большей площадью, для арендаторов наиболее влияющими на цену могут являться иные факторы."
   ]
  },
  {
   "cell_type": "code",
   "execution_count": 20,
   "metadata": {},
   "outputs": [
    {
     "name": "stdout",
     "output_type": "stream",
     "text": [
      "Text(0.5, 1.0, 'Зависимость цены от площади квартиры')\n"
     ]
    },
    {
     "data": {
      "image/png": "[encoded data removed]",
      "text/plain": [
       "<Figure size 432x288 with 1 Axes>"
      ]
     },
     "metadata": {
      "needs_background": "light"
     },
     "output_type": "display_data"
    }
   ],
   "source": [
    "x = list(df['total_area'])\n",
    "y = list(df['price'])\n",
    "b = plt.scatter(x, y, s=5, color='blue')\n",
    "b = plt.xlabel('площадь квартиры')\n",
    "b = plt.ylabel('цена')\n",
    "b = plt.title('Зависимость цены от площади квартиры')\n",
    "print(b)"
   ]
  },
  {
   "cell_type": "markdown",
   "metadata": {},
   "source": [
    "На данном графике наблюдается, идентичная предыдущему соотношению, зависимость, так как люди при выборе квартиры в первую очередь ориентируются не на сухие цифры на сайте, а на визуальные субъективные ощущения, зачастую намеренно не разделяя квартиру на жилую площадь и нежилую, а опираются на общие размеры квартиры."
   ]
  },
  {
   "cell_type": "code",
   "execution_count": 8,
   "metadata": {},
   "outputs": [
    {
     "name": "stdout",
     "output_type": "stream",
     "text": [
      "Text(0.5, 1.0, 'Зависимость цены от площади квартиры')\n"
     ]
    },
    {
     "data": {
      "image/png": "[encoded data removed]",
      "text/plain": [
       "<Figure size 432x288 with 1 Axes>"
      ]
     },
     "metadata": {
      "needs_background": "light"
     },
     "output_type": "display_data"
    }
   ],
   "source": [
    "x = list(df['total_area'])\n",
    "y = list(df['price'])\n",
    "b = plt.scatter(x, y, s=3)\n",
    "b = plt.xlabel('площадь квартиры')\n",
    "b = plt.ylabel('цена')\n",
    "b = plt.title('Зависимость цены от площади квартиры')\n",
    "print(b)"
   ]
  },
  {
   "cell_type": "markdown",
   "metadata": {},
   "source": [
    "Зависимости между ценой на квартиру и расстоянием до ближайшей станции метро также не наблюдается (это также подтверждается в матрице корреляции). Причины данного явления идентичны причинам отсутствия зависимости между временем до ближайшей станции метро и ценой аренды квартиры"
   ]
  },
  {
   "cell_type": "code",
   "execution_count": 9,
   "metadata": {},
   "outputs": [
    {
     "name": "stdout",
     "output_type": "stream",
     "text": [
      "Text(0.5, 1.0, 'Зависимость цены от времени до ближайшей станции метро')\n"
     ]
    },
    {
     "data": {
      "image/png": "[encoded data removed]",
      "text/plain": [
       "<Figure size 432x288 with 1 Axes>"
      ]
     },
     "metadata": {
      "needs_background": "light"
     },
     "output_type": "display_data"
    }
   ],
   "source": [
    "x = list(df['und_time'])\n",
    "y = list(df['price'])\n",
    "b = plt.scatter(x, y, s=5, color='purple')\n",
    "b = plt.xlabel('время до ближайшей станции метро (в минутах)')\n",
    "b = plt.ylabel('цена')\n",
    "b = plt.title('Зависимость цены от времени до ближайшей станции метро')\n",
    "print(b)"
   ]
  },
  {
   "cell_type": "markdown",
   "metadata": {},
   "source": [
    "Зависимости между ценой на квартиру и временем до ближайшей станции метро не наблюдается (это подтверждается в матрице корреляции). Данное явление может в некоторой мере иметь место из-за того, что наибольшая часть исследуемых квартир находится в ценовом диапазоне до 40.000 рублей/месяц"
   ]
  },
  {
   "cell_type": "code",
   "execution_count": 10,
   "metadata": {},
   "outputs": [
    {
     "data": {
      "image/png": "[encoded data removed]",
      "text/plain": [
       "<Figure size 648x360 with 1 Axes>"
      ]
     },
     "metadata": {
      "needs_background": "light"
     },
     "output_type": "display_data"
    }
   ],
   "source": [
    "b = plt.figure(figsize=(9,5))\n",
    "b = df['price'].plot(kind='hist')\n",
    "b = plt.xlabel('цена')\n",
    "b = plt.ylabel('количесттво квартир')\n",
    "b = plt.title('Распределение квартир по цене')"
   ]
  },
  {
   "cell_type": "markdown",
   "metadata": {},
   "source": [
    "Данный график показывает, что большая часть рынка съёмного жилья приходится на интервал цен до 20.000 рублей, а дальше снижается быстрыми темпами практически до нулевых значений. При этом, при переходе точки 145.000 рублей количество сдаваемых квартир немного возрастает, но очень несущественно."
   ]
  },
  {
   "cell_type": "markdown",
   "metadata": {},
   "source": [
    "# STEP №5"
   ]
  },
  {
   "cell_type": "code",
   "execution_count": 11,
   "metadata": {},
   "outputs": [],
   "source": [
    "import matplotlib.pyplot as plt\n",
    "import seaborn as sns"
   ]
  },
  {
   "cell_type": "code",
   "execution_count": 12,
   "metadata": {},
   "outputs": [
    {
     "data": {
      "text/plain": [
       "count      1457.000000\n",
       "mean      21894.092656\n",
       "std       14743.134386\n",
       "min        6000.000000\n",
       "25%       13000.000000\n",
       "50%       17000.000000\n",
       "75%       25000.000000\n",
       "max      165000.000000\n",
       "Name: price, dtype: float64"
      ]
     },
     "execution_count": 12,
     "metadata": {},
     "output_type": "execute_result"
    }
   ],
   "source": [
    "df['price'].describe()"
   ]
  },
  {
   "cell_type": "markdown",
   "metadata": {},
   "source": [
    "### Таблица корреляций"
   ]
  },
  {
   "cell_type": "code",
   "execution_count": 13,
   "metadata": {},
   "outputs": [
    {
     "data": {
      "text/plain": [
       "<AxesSubplot:>"
      ]
     },
     "execution_count": 13,
     "metadata": {},
     "output_type": "execute_result"
    },
    {
     "data": {
      "image/png": "[encoded data removed]",
      "text/plain": [
       "<Figure size 648x576 with 2 Axes>"
      ]
     },
     "metadata": {
      "needs_background": "light"
     },
     "output_type": "display_data"
    }
   ],
   "source": [
    "corrmat = df.corr()\n",
    "fig, ax = plt.subplots(figsize=(9,8))\n",
    "\n",
    "sns.heatmap(corrmat)"
   ]
  },
  {
   "cell_type": "markdown",
   "metadata": {},
   "source": [
    "Как видно из таблицы, цена имеет взаимозависимость с первым платежом, депозитом, площадью всей квартиры, кухни и жилых комнат. Также сильную зависимость имеют депозит и первый платеж. Судя по таблице такие признаки, как широта, долгота и расстояние и время до метра практически не имеют взаимозависимости с другими факторами."
   ]
  },
  {
   "cell_type": "markdown",
   "metadata": {},
   "source": [
    "### Средняя цена за комнату в зависимости от общего количества комнат в квартире."
   ]
  },
  {
   "cell_type": "code",
   "execution_count": 14,
   "metadata": {},
   "outputs": [
    {
     "data": {
      "text/html": [
       "<div>\n",
       "<style scoped>\n",
       "    .dataframe tbody tr th:only-of-type {\n",
       "        vertical-align: middle;\n",
       "    }\n",
       "\n",
       "    .dataframe tbody tr th {\n",
       "        vertical-align: top;\n",
       "    }\n",
       "\n",
       "    .dataframe thead th {\n",
       "        text-align: right;\n",
       "    }\n",
       "</style>\n",
       "<table border=\"1\" class=\"dataframe\">\n",
       "  <thead>\n",
       "    <tr style=\"text-align: right;\">\n",
       "      <th></th>\n",
       "      <th>rooms</th>\n",
       "      <th>price</th>\n",
       "    </tr>\n",
       "  </thead>\n",
       "  <tbody>\n",
       "    <tr>\n",
       "      <th>0</th>\n",
       "      <td>1</td>\n",
       "      <td>7794</td>\n",
       "    </tr>\n",
       "    <tr>\n",
       "      <th>1</th>\n",
       "      <td>2</td>\n",
       "      <td>6731</td>\n",
       "    </tr>\n",
       "    <tr>\n",
       "      <th>2</th>\n",
       "      <td>3</td>\n",
       "      <td>6592</td>\n",
       "    </tr>\n",
       "    <tr>\n",
       "      <th>3</th>\n",
       "      <td>4</td>\n",
       "      <td>9756</td>\n",
       "    </tr>\n",
       "    <tr>\n",
       "      <th>4</th>\n",
       "      <td>5</td>\n",
       "      <td>9800</td>\n",
       "    </tr>\n",
       "  </tbody>\n",
       "</table>\n",
       "</div>"
      ],
      "text/plain": [
       "   rooms  price\n",
       "0      1   7794\n",
       "1      2   6731\n",
       "2      3   6592\n",
       "3      4   9756\n",
       "4      5   9800"
      ]
     },
     "execution_count": 14,
     "metadata": {},
     "output_type": "execute_result"
    }
   ],
   "source": [
    "rooms2 = list(df['rooms'])\n",
    "price2 = list(df['price'])\n",
    "total_area2 = list(df['total_area'])\n",
    "living_area2 = list(df['living_area'])\n",
    "kitchen_area2 = list(df['kitchen_area'])\n",
    "\n",
    "liv_part = []\n",
    "for i in range(len(rooms2)):\n",
    "    a = round(((living_area2[i]) / (total_area2[i])), 1)\n",
    "    liv_part.append(a)\n",
    "#print(liv_part)\n",
    "    \n",
    "price_rooms = dict()\n",
    "setrooms2 = list(sorted(set(rooms2)))\n",
    "\n",
    "for i in range(len(setrooms2)):\n",
    "    price_rooms[setrooms2[i]] = [0, 0]\n",
    "for i in range(len(price2)):\n",
    "    price_rooms[rooms2[i]][0] += price2[i] * liv_part[i]\n",
    "    price_rooms[rooms2[i]][1] += 1\n",
    "    \n",
    "price_for_room = dict()\n",
    "for i in range(len(setrooms2)):\n",
    "    price_for_room[setrooms2[i]] = round(price_rooms[setrooms2[i]][0] / price_rooms[setrooms2[i]][1] / setrooms2[i])\n",
    "#print(price_for_room)\n",
    "rooms = list(price_for_room.keys())\n",
    "price = list(price_for_room.values())\n",
    "#print(rooms, price)\n",
    "dff = pd.DataFrame(list(zip(rooms, price)), columns = ['rooms', 'price'])\n",
    "dff"
   ]
  },
  {
   "cell_type": "markdown",
   "metadata": {},
   "source": [
    "Полученные результаты показывают нам, что наименьшая цена за комнату у двухкомнатных и трехкомнатных квартир. Наибольшая же у четырехкомнатных и пятикомнатных квартир."
   ]
  },
  {
   "cell_type": "markdown",
   "metadata": {},
   "source": [
    "### Средняя цена аренды квартиры в зависимости от количества комнат."
   ]
  },
  {
   "cell_type": "code",
   "execution_count": 15,
   "metadata": {},
   "outputs": [
    {
     "data": {
      "text/html": [
       "<div>\n",
       "<style scoped>\n",
       "    .dataframe tbody tr th:only-of-type {\n",
       "        vertical-align: middle;\n",
       "    }\n",
       "\n",
       "    .dataframe tbody tr th {\n",
       "        vertical-align: top;\n",
       "    }\n",
       "\n",
       "    .dataframe thead th {\n",
       "        text-align: right;\n",
       "    }\n",
       "</style>\n",
       "<table border=\"1\" class=\"dataframe\">\n",
       "  <thead>\n",
       "    <tr style=\"text-align: right;\">\n",
       "      <th></th>\n",
       "      <th>rooms</th>\n",
       "      <th>price</th>\n",
       "    </tr>\n",
       "  </thead>\n",
       "  <tbody>\n",
       "    <tr>\n",
       "      <th>0</th>\n",
       "      <td>1</td>\n",
       "      <td>15397.274457</td>\n",
       "    </tr>\n",
       "    <tr>\n",
       "      <th>1</th>\n",
       "      <td>2</td>\n",
       "      <td>23989.866157</td>\n",
       "    </tr>\n",
       "    <tr>\n",
       "      <th>2</th>\n",
       "      <td>3</td>\n",
       "      <td>35348.270115</td>\n",
       "    </tr>\n",
       "    <tr>\n",
       "      <th>3</th>\n",
       "      <td>4</td>\n",
       "      <td>73500.000000</td>\n",
       "    </tr>\n",
       "    <tr>\n",
       "      <th>4</th>\n",
       "      <td>5</td>\n",
       "      <td>100000.000000</td>\n",
       "    </tr>\n",
       "  </tbody>\n",
       "</table>\n",
       "</div>"
      ],
      "text/plain": [
       "   rooms          price\n",
       "0      1   15397.274457\n",
       "1      2   23989.866157\n",
       "2      3   35348.270115\n",
       "3      4   73500.000000\n",
       "4      5  100000.000000"
      ]
     },
     "execution_count": 15,
     "metadata": {},
     "output_type": "execute_result"
    }
   ],
   "source": [
    "def kvprice(df):\n",
    "    df2 = df.groupby(['rooms'], as_index = False)['price'].mean()\n",
    "    return(df2)\n",
    "kvprice(df)"
   ]
  },
  {
   "cell_type": "markdown",
   "metadata": {},
   "source": [
    "Данная таблица отражает средние цены аренды квартиры в зависимости от количества комнат. Как и предполагалось, с ростом цен, растет и цена. Однако, так же с ростом числа комнат увеличивается и темп роста цен."
   ]
  },
  {
   "cell_type": "markdown",
   "metadata": {},
   "source": [
    "### Ищем самого богатого риелтора"
   ]
  },
  {
   "cell_type": "code",
   "execution_count": 16,
   "metadata": {},
   "outputs": [
    {
     "data": {
      "text/html": [
       "<div>\n",
       "<style scoped>\n",
       "    .dataframe tbody tr th:only-of-type {\n",
       "        vertical-align: middle;\n",
       "    }\n",
       "\n",
       "    .dataframe tbody tr th {\n",
       "        vertical-align: top;\n",
       "    }\n",
       "\n",
       "    .dataframe thead th {\n",
       "        text-align: right;\n",
       "    }\n",
       "</style>\n",
       "<table border=\"1\" class=\"dataframe\">\n",
       "  <thead>\n",
       "    <tr style=\"text-align: right;\">\n",
       "      <th></th>\n",
       "      <th>tel</th>\n",
       "      <th>comission</th>\n",
       "    </tr>\n",
       "  </thead>\n",
       "  <tbody>\n",
       "    <tr>\n",
       "      <th>0</th>\n",
       "      <td>tel:+79030540208</td>\n",
       "      <td>140.0</td>\n",
       "    </tr>\n",
       "    <tr>\n",
       "      <th>1</th>\n",
       "      <td>tel:+79040690117</td>\n",
       "      <td>235.0</td>\n",
       "    </tr>\n",
       "    <tr>\n",
       "      <th>2</th>\n",
       "      <td>tel:+79087333300</td>\n",
       "      <td>60.0</td>\n",
       "    </tr>\n",
       "    <tr>\n",
       "      <th>3</th>\n",
       "      <td>tel:+79159431817</td>\n",
       "      <td>0.0</td>\n",
       "    </tr>\n",
       "    <tr>\n",
       "      <th>4</th>\n",
       "      <td>tel:+79200195168</td>\n",
       "      <td>0.0</td>\n",
       "    </tr>\n",
       "    <tr>\n",
       "      <th>...</th>\n",
       "      <td>...</td>\n",
       "      <td>...</td>\n",
       "    </tr>\n",
       "    <tr>\n",
       "      <th>630</th>\n",
       "      <td>tel:+79918998832</td>\n",
       "      <td>50.0</td>\n",
       "    </tr>\n",
       "    <tr>\n",
       "      <th>631</th>\n",
       "      <td>tel:+79918998840</td>\n",
       "      <td>0.0</td>\n",
       "    </tr>\n",
       "    <tr>\n",
       "      <th>632</th>\n",
       "      <td>tel:+79918998850</td>\n",
       "      <td>0.0</td>\n",
       "    </tr>\n",
       "    <tr>\n",
       "      <th>633</th>\n",
       "      <td>tel:+79918998858</td>\n",
       "      <td>0.0</td>\n",
       "    </tr>\n",
       "    <tr>\n",
       "      <th>634</th>\n",
       "      <td>tel:+79918998871</td>\n",
       "      <td>0.0</td>\n",
       "    </tr>\n",
       "  </tbody>\n",
       "</table>\n",
       "<p>635 rows × 2 columns</p>\n",
       "</div>"
      ],
      "text/plain": [
       "                  tel  comission\n",
       "0    tel:+79030540208      140.0\n",
       "1    tel:+79040690117      235.0\n",
       "2    tel:+79087333300       60.0\n",
       "3    tel:+79159431817        0.0\n",
       "4    tel:+79200195168        0.0\n",
       "..                ...        ...\n",
       "630  tel:+79918998832       50.0\n",
       "631  tel:+79918998840        0.0\n",
       "632  tel:+79918998850        0.0\n",
       "633  tel:+79918998858        0.0\n",
       "634  tel:+79918998871        0.0\n",
       "\n",
       "[635 rows x 2 columns]"
      ]
     },
     "execution_count": 16,
     "metadata": {},
     "output_type": "execute_result"
    }
   ],
   "source": [
    "df3 = df.groupby(['tel'], as_index = False)['comission'].sum()\n",
    "df3"
   ]
  },
  {
   "cell_type": "code",
   "execution_count": 6,
   "metadata": {},
   "outputs": [
    {
     "data": {
      "text/html": [
       "<div>\n",
       "<style scoped>\n",
       "    .dataframe tbody tr th:only-of-type {\n",
       "        vertical-align: middle;\n",
       "    }\n",
       "\n",
       "    .dataframe tbody tr th {\n",
       "        vertical-align: top;\n",
       "    }\n",
       "\n",
       "    .dataframe thead th {\n",
       "        text-align: right;\n",
       "    }\n",
       "</style>\n",
       "<table border=\"1\" class=\"dataframe\">\n",
       "  <thead>\n",
       "    <tr style=\"text-align: right;\">\n",
       "      <th></th>\n",
       "      <th>tel</th>\n",
       "      <th>comission_in_r</th>\n",
       "    </tr>\n",
       "  </thead>\n",
       "  <tbody>\n",
       "    <tr>\n",
       "      <th>37</th>\n",
       "      <td>tel:+79587280092</td>\n",
       "      <td>201360000.0</td>\n",
       "    </tr>\n",
       "    <tr>\n",
       "      <th>583</th>\n",
       "      <td>tel:+79918997550</td>\n",
       "      <td>123335000.0</td>\n",
       "    </tr>\n",
       "    <tr>\n",
       "      <th>40</th>\n",
       "      <td>tel:+79587280137</td>\n",
       "      <td>108030000.0</td>\n",
       "    </tr>\n",
       "    <tr>\n",
       "      <th>476</th>\n",
       "      <td>tel:+79587299247</td>\n",
       "      <td>80290000.0</td>\n",
       "    </tr>\n",
       "    <tr>\n",
       "      <th>44</th>\n",
       "      <td>tel:+79587280290</td>\n",
       "      <td>70000000.0</td>\n",
       "    </tr>\n",
       "  </tbody>\n",
       "</table>\n",
       "</div>"
      ],
      "text/plain": [
       "                  tel  comission_in_r\n",
       "37   tel:+79587280092     201360000.0\n",
       "583  tel:+79918997550     123335000.0\n",
       "40   tel:+79587280137     108030000.0\n",
       "476  tel:+79587299247      80290000.0\n",
       "44   tel:+79587280290      70000000.0"
      ]
     },
     "execution_count": 6,
     "metadata": {},
     "output_type": "execute_result"
    }
   ],
   "source": [
    "dff = df\n",
    "dff['comission_in_r'] = df['comission'] * df['price']\n",
    "dff.groupby(['tel'], as_index = False)['comission_in_r'].sum().sort_values(by='comission_in_r', ascending=False).head(5)"
   ]
  },
  {
   "cell_type": "code",
   "execution_count": 17,
   "metadata": {},
   "outputs": [
    {
     "data": {
      "text/html": [
       "<div>\n",
       "<style scoped>\n",
       "    .dataframe tbody tr th:only-of-type {\n",
       "        vertical-align: middle;\n",
       "    }\n",
       "\n",
       "    .dataframe tbody tr th {\n",
       "        vertical-align: top;\n",
       "    }\n",
       "\n",
       "    .dataframe thead th {\n",
       "        text-align: right;\n",
       "    }\n",
       "</style>\n",
       "<table border=\"1\" class=\"dataframe\">\n",
       "  <thead>\n",
       "    <tr style=\"text-align: right;\">\n",
       "      <th></th>\n",
       "      <th>tel</th>\n",
       "      <th>comission</th>\n",
       "    </tr>\n",
       "  </thead>\n",
       "  <tbody>\n",
       "    <tr>\n",
       "      <th>37</th>\n",
       "      <td>tel:+79587280092</td>\n",
       "      <td>5350.0</td>\n",
       "    </tr>\n",
       "    <tr>\n",
       "      <th>583</th>\n",
       "      <td>tel:+79918997550</td>\n",
       "      <td>4265.0</td>\n",
       "    </tr>\n",
       "    <tr>\n",
       "      <th>40</th>\n",
       "      <td>tel:+79587280137</td>\n",
       "      <td>3140.0</td>\n",
       "    </tr>\n",
       "    <tr>\n",
       "      <th>226</th>\n",
       "      <td>tel:+79587290148</td>\n",
       "      <td>3125.0</td>\n",
       "    </tr>\n",
       "    <tr>\n",
       "      <th>44</th>\n",
       "      <td>tel:+79587280290</td>\n",
       "      <td>2450.0</td>\n",
       "    </tr>\n",
       "  </tbody>\n",
       "</table>\n",
       "</div>"
      ],
      "text/plain": [
       "                  tel  comission\n",
       "37   tel:+79587280092     5350.0\n",
       "583  tel:+79918997550     4265.0\n",
       "40   tel:+79587280137     3140.0\n",
       "226  tel:+79587290148     3125.0\n",
       "44   tel:+79587280290     2450.0"
      ]
     },
     "execution_count": 17,
     "metadata": {},
     "output_type": "execute_result"
    }
   ],
   "source": [
    "sorted_df3 = df3.sort_values(by='comission', ascending=False)\n",
    "sorted_df3.head()"
   ]
  },
  {
   "cell_type": "markdown",
   "metadata": {},
   "source": [
    "Получаем, что больше всего заработает риелтор с номером телефона +79587280092\t"
   ]
  },
  {
   "cell_type": "markdown",
   "metadata": {},
   "source": [
    "### Функция поиска наилучших квартир"
   ]
  },
  {
   "cell_type": "code",
   "execution_count": 18,
   "metadata": {},
   "outputs": [],
   "source": [
    "def best_flat(df, n=3, rooms=0, price=0, price_on_m=0, first_pay=0, total_area=0, living_area=0,\n",
    "              kitchen_area=0, deposit=0, comission=0, prepay=0, und=0, und_dist=0, floor=0, build_year=0):\n",
    "    \"\"\"Функция принимает в качестве параметров датафрейм, n = количество итоговых результатов,\n",
    "    и одноименные веса для каждого столбца. Результатом работы функции является таблица с n строками\n",
    "    и колонками для ненулевых весов + link, tel, description.\n",
    "    При отрицательном значении веса, значения будут соритроваться в порядке убывания,\n",
    "    при положительном - в порядке возрастания.\n",
    "    !ВАЖНО веса нужно нормировать. Результат работы при price=-1, living_area=1 и \n",
    "    price=-1, living_area=500 будет разный.\n",
    "    (В первом варианте большую роль играет цена, во втором оптимальное соотношение)\"\"\"\n",
    "    best_flats = 0\n",
    "    cols = []\n",
    "    if rooms != 0:\n",
    "        best_flats += df.rooms * rooms\n",
    "        cols.append('rooms')\n",
    "    if  price != 0:\n",
    "        best_flats += df.price * price\n",
    "        cols.append('price')\n",
    "    if price_on_m != 0:\n",
    "        best_flats += df.price_on_m * price_on_m\n",
    "        cols.append('price_on_m')\n",
    "    if first_pay != 0:\n",
    "        best_flats += df.first_pay * first_pay\n",
    "        cols.append('first_pay')\n",
    "    if total_area != 0:\n",
    "        best_flats += df.total_area * total_area\n",
    "        cols.append('total_area')\n",
    "    if living_area != 0:\n",
    "        best_flats += df.living_area * living_area\n",
    "        cols.append('living_area')\n",
    "    if kitchen_area != 0:\n",
    "        best_flats += df.kitchen_area * kitchen_area\n",
    "        cols.append('kitchen_area')\n",
    "    if deposit != 0:\n",
    "        best_flats += df.deposit * deposit\n",
    "        cols.append('deposit')\n",
    "    if comission != 0:\n",
    "        best_flats += df.comission * comission\n",
    "        cols.append('comission')\n",
    "    if prepay != 0:\n",
    "        best_flats += df.prepay * prepay\n",
    "        cols.append('prepay')\n",
    "    if und_dist != 0:\n",
    "        best_flats += df.und_dist * und_dist\n",
    "        cols.append('und_dist')\n",
    "    if floor != 0:\n",
    "        best_flats += df.floor * floor\n",
    "        cols.append('floor')\n",
    "    if build_year != 0:\n",
    "        best_flats += df.build_year * build_year\n",
    "        cols.append('build_year')\n",
    "    cols.append('link')\n",
    "    cols.append('tel')\n",
    "    cols.append('description')\n",
    "    result = df.iloc[best_flats.sort_values(ascending=False).index].reset_index().iloc[:n][cols]\n",
    "    return result"
   ]
  },
  {
   "cell_type": "code",
   "execution_count": 19,
   "metadata": {},
   "outputs": [
    {
     "data": {
      "text/html": [
       "<div>\n",
       "<style scoped>\n",
       "    .dataframe tbody tr th:only-of-type {\n",
       "        vertical-align: middle;\n",
       "    }\n",
       "\n",
       "    .dataframe tbody tr th {\n",
       "        vertical-align: top;\n",
       "    }\n",
       "\n",
       "    .dataframe thead th {\n",
       "        text-align: right;\n",
       "    }\n",
       "</style>\n",
       "<table border=\"1\" class=\"dataframe\">\n",
       "  <thead>\n",
       "    <tr style=\"text-align: right;\">\n",
       "      <th></th>\n",
       "      <th>price</th>\n",
       "      <th>living_area</th>\n",
       "      <th>link</th>\n",
       "      <th>tel</th>\n",
       "      <th>description</th>\n",
       "    </tr>\n",
       "  </thead>\n",
       "  <tbody>\n",
       "    <tr>\n",
       "      <th>0</th>\n",
       "      <td>6000</td>\n",
       "      <td>18.0</td>\n",
       "      <td>https://nn.cian.ru/rent/flat/256582364/</td>\n",
       "      <td>tel:+79918997270</td>\n",
       "      <td>Сдам однокомнатную квартиру без мебели в центр...</td>\n",
       "    </tr>\n",
       "    <tr>\n",
       "      <th>1</th>\n",
       "      <td>6000</td>\n",
       "      <td>17.3</td>\n",
       "      <td>https://nn.cian.ru/rent/flat/244000013/</td>\n",
       "      <td>tel:+79587281240</td>\n",
       "      <td>АГЕНТ!!! Квартира без мебели, состояние хороше...</td>\n",
       "    </tr>\n",
       "    <tr>\n",
       "      <th>2</th>\n",
       "      <td>6000</td>\n",
       "      <td>17.0</td>\n",
       "      <td>https://nn.cian.ru/rent/flat/203943001/</td>\n",
       "      <td>tel:+79587294540</td>\n",
       "      <td>6000+эл-во по счетчику и газ (60 руб.), м. Зар...</td>\n",
       "    </tr>\n",
       "  </tbody>\n",
       "</table>\n",
       "</div>"
      ],
      "text/plain": [
       "   price  living_area                                     link  \\\n",
       "0   6000         18.0  https://nn.cian.ru/rent/flat/256582364/   \n",
       "1   6000         17.3  https://nn.cian.ru/rent/flat/244000013/   \n",
       "2   6000         17.0  https://nn.cian.ru/rent/flat/203943001/   \n",
       "\n",
       "                tel                                        description  \n",
       "0  tel:+79918997270  Сдам однокомнатную квартиру без мебели в центр...  \n",
       "1  tel:+79587281240  АГЕНТ!!! Квартира без мебели, состояние хороше...  \n",
       "2  tel:+79587294540  6000+эл-во по счетчику и газ (60 руб.), м. Зар...  "
      ]
     },
     "execution_count": 19,
     "metadata": {},
     "output_type": "execute_result"
    }
   ],
   "source": [
    "best_flat(df, price=-1, living_area=1)"
   ]
  },
  {
   "cell_type": "code",
   "execution_count": 20,
   "metadata": {},
   "outputs": [
    {
     "data": {
      "text/html": [
       "<div>\n",
       "<style scoped>\n",
       "    .dataframe tbody tr th:only-of-type {\n",
       "        vertical-align: middle;\n",
       "    }\n",
       "\n",
       "    .dataframe tbody tr th {\n",
       "        vertical-align: top;\n",
       "    }\n",
       "\n",
       "    .dataframe thead th {\n",
       "        text-align: right;\n",
       "    }\n",
       "</style>\n",
       "<table border=\"1\" class=\"dataframe\">\n",
       "  <thead>\n",
       "    <tr style=\"text-align: right;\">\n",
       "      <th></th>\n",
       "      <th>price</th>\n",
       "      <th>living_area</th>\n",
       "      <th>link</th>\n",
       "      <th>tel</th>\n",
       "      <th>description</th>\n",
       "    </tr>\n",
       "  </thead>\n",
       "  <tbody>\n",
       "    <tr>\n",
       "      <th>0</th>\n",
       "      <td>12000</td>\n",
       "      <td>75.5</td>\n",
       "      <td>https://nn.cian.ru/rent/flat/258113568/</td>\n",
       "      <td>tel:+79587294870</td>\n",
       "      <td>Квартира после ремонта , не кому ранее не сдав...</td>\n",
       "    </tr>\n",
       "    <tr>\n",
       "      <th>1</th>\n",
       "      <td>14200</td>\n",
       "      <td>60.0</td>\n",
       "      <td>https://nn.cian.ru/rent/flat/256670828/</td>\n",
       "      <td>tel:+79918995392</td>\n",
       "      <td>Сдам 3-комнатную квартиру в центре г.Бор на ул...</td>\n",
       "    </tr>\n",
       "    <tr>\n",
       "      <th>2</th>\n",
       "      <td>9000</td>\n",
       "      <td>46.6</td>\n",
       "      <td>https://nn.cian.ru/rent/flat/254709010/</td>\n",
       "      <td>tel:+79587299602</td>\n",
       "      <td>Сдатся трхкомнатная квартира, на длительный ср...</td>\n",
       "    </tr>\n",
       "  </tbody>\n",
       "</table>\n",
       "</div>"
      ],
      "text/plain": [
       "   price  living_area                                     link  \\\n",
       "0  12000         75.5  https://nn.cian.ru/rent/flat/258113568/   \n",
       "1  14200         60.0  https://nn.cian.ru/rent/flat/256670828/   \n",
       "2   9000         46.6  https://nn.cian.ru/rent/flat/254709010/   \n",
       "\n",
       "                tel                                        description  \n",
       "0  tel:+79587294870  Квартира после ремонта , не кому ранее не сдав...  \n",
       "1  tel:+79918995392  Сдам 3-комнатную квартиру в центре г.Бор на ул...  \n",
       "2  tel:+79587299602  Сдатся трхкомнатная квартира, на длительный ср...  "
      ]
     },
     "execution_count": 20,
     "metadata": {},
     "output_type": "execute_result"
    }
   ],
   "source": [
    "best_flat(df, price=-1, living_area=500)"
   ]
  },
  {
   "cell_type": "markdown",
   "metadata": {},
   "source": [
    "### Heatmaps"
   ]
  },
  {
   "cell_type": "code",
   "execution_count": 21,
   "metadata": {},
   "outputs": [],
   "source": [
    "import folium\n",
    "from folium import plugins\n",
    "from folium.plugins import HeatMap"
   ]
  },
  {
   "cell_type": "code",
   "execution_count": 22,
   "metadata": {},
   "outputs": [
    {
     "data": {
      "text/html": [
       "<div style=\"width:100%;\"><div style=\"position:relative;width:100%;height:0;padding-bottom:60%;\"><span style=\"color:#565656\">Make this Notebook Trusted to load map: File -> Trust Notebook</span><iframe src=\"about:blank\" style=\"position:absolute;width:100%;height:100%;left:0;top:0;border:none !important;\" data-html=%3C%21DOCTYPE%20html%3E%0A%3Chead%3E%20%20%20%20%0A%20%20%20%20%3Cmeta%20http-equiv%3D%22content-type%22%20content%3D%22text/html%3B%20charset%3DUTF-8%22%20/%3E%0A%20%20%20%20%0A%20%20%20%20%20%20%20%20%3Cscript%3E%0A%20%20%20%20%20%20%20%20%20%20%20%20L_NO_TOUCH%20%3D%20false%3B%0A%20%20%20%20%20%20%20%20%20%20%20%20L_DISABLE_3D%20%3D%20false%3B%0A%20%20%20%20%20%20%20%20%3C/script%3E%0A%20%20%20%20%0A%20%20%20%20%3Cstyle%3Ehtml%2C%20body%20%7Bwidth%3A%20100%25%3Bheight%3A%20100%25%3Bmargin%3A%200%3Bpadding%3A%200%3B%7D%3C/style%3E%0A%20%20%20%20%3Cstyle%3E%23map%20%7Bposition%3Aabsolute%3Btop%3A0%3Bbottom%3A0%3Bright%3A0%3Bleft%3A0%3B%7D%3C/style%3E%0A%20%20%20%20%3Cscript%20src%3D%22https%3A//cdn.jsdelivr.net/npm/leaflet%401.6.0/dist/leaflet.js%22%3E%3C/script%3E%0A%20%20%20%20%3Cscript%20src%3D%22https%3A//code.jquery.com/jquery-1.12.4.min.js%22%3E%3C/script%3E%0A%20%20%20%20%3Cscript%20src%3D%22https%3A//maxcdn.bootstrapcdn.com/bootstrap/3.2.0/js/bootstrap.min.js%22%3E%3C/script%3E%0A%20%20%20%20%3Cscript%20src%3D%22https%3A//cdnjs.cloudflare.com/ajax/libs/Leaflet.awesome-markers/2.0.2/leaflet.awesome-markers.js%22%3E%3C/script%3E%0A%20%20%20%20%3Clink%20rel%3D%22stylesheet%22%20href%3D%22https%3A//cdn.jsdelivr.net/npm/leaflet%401.6.0/dist/leaflet.css%22/%3E%0A%20%20%20%20%3Clink%20rel%3D%22stylesheet%22%20href%3D%22https%3A//maxcdn.bootstrapcdn.com/bootstrap/3.2.0/css/bootstrap.min.css%22/%3E%0A%20%20%20%20%3Clink%20rel%3D%22stylesheet%22%20href%3D%22https%3A//maxcdn.bootstrapcdn.com/bootstrap/3.2.0/css/bootstrap-theme.min.css%22/%3E%0A%20%20%20%20%3Clink%20rel%3D%22stylesheet%22%20href%3D%22https%3A//maxcdn.bootstrapcdn.com/font-awesome/4.6.3/css/font-awesome.min.css%22/%3E%0A%20%20%20%20%3Clink%20rel%3D%22stylesheet%22%20href%3D%22https%3A//cdnjs.cloudflare.com/ajax/libs/Leaflet.awesome-markers/2.0.2/leaflet.awesome-markers.css%22/%3E%0A%20%20%20%20%3Clink%20rel%3D%22stylesheet%22%20href%3D%22https%3A//cdn.jsdelivr.net/gh/python-visualization/folium/folium/templates/leaflet.awesome.rotate.min.css%22/%3E%0A%20%20%20%20%0A%20%20%20%20%20%20%20%20%20%20%20%20%3Cmeta%20name%3D%22viewport%22%20content%3D%22width%3Ddevice-width%2C%0A%20%20%20%20%20%20%20%20%20%20%20%20%20%20%20%20initial-scale%3D1.0%2C%20maximum-scale%3D1.0%2C%20user-scalable%3Dno%22%20/%3E%0A%20%20%20%20%20%20%20%20%20%20%20%20%3Cstyle%3E%0A%20%20%20%20%20%20%20%20%20%20%20%20%20%20%20%20%23map_fac58dbbd1604a39a5cdfde5d341b463%20%7B%0A%20%20%20%20%20%20%20%20%20%20%20%20%20%20%20%20%20%20%20%20position%3A%20relative%3B%0A%20%20%20%20%20%20%20%20%20%20%20%20%20%20%20%20%20%20%20%20width%3A%20100.0%25%3B%0A%20%20%20%20%20%20%20%20%20%20%20%20%20%20%20%20%20%20%20%20height%3A%20100.0%25%3B%0A%20%20%20%20%20%20%20%20%20%20%20%20%20%20%20%20%20%20%20%20left%3A%200.0%25%3B%0A%20%20%20%20%20%20%20%20%20%20%20%20%20%20%20%20%20%20%20%20top%3A%200.0%25%3B%0A%20%20%20%20%20%20%20%20%20%20%20%20%20%20%20%20%7D%0A%20%20%20%20%20%20%20%20%20%20%20%20%3C/style%3E%0A%20%20%20%20%20%20%20%20%0A%20%20%20%20%3Cscript%20src%3D%22https%3A//cdn.jsdelivr.net/gh/python-visualization/folium%40master/folium/templates/leaflet_heat.min.js%22%3E%3C/script%3E%0A%3C/head%3E%0A%3Cbody%3E%20%20%20%20%0A%20%20%20%20%0A%20%20%20%20%20%20%20%20%20%20%20%20%3Cdiv%20class%3D%22folium-map%22%20id%3D%22map_fac58dbbd1604a39a5cdfde5d341b463%22%20%3E%3C/div%3E%0A%20%20%20%20%20%20%20%20%0A%3C/body%3E%0A%3Cscript%3E%20%20%20%20%0A%20%20%20%20%0A%20%20%20%20%20%20%20%20%20%20%20%20var%20map_fac58dbbd1604a39a5cdfde5d341b463%20%3D%20L.map%28%0A%20%20%20%20%20%20%20%20%20%20%20%20%20%20%20%20%22map_fac58dbbd1604a39a5cdfde5d341b463%22%2C%0A%20%20%20%20%20%20%20%20%20%20%20%20%20%20%20%20%7B%0A%20%20%20%20%20%20%20%20%20%20%20%20%20%20%20%20%20%20%20%20center%3A%20%5B56.29%2C%2043.95%5D%2C%0A%20%20%20%20%20%20%20%20%20%20%20%20%20%20%20%20%20%20%20%20crs%3A%20L.CRS.EPSG3857%2C%0A%20%20%20%20%20%20%20%20%20%20%20%20%20%20%20%20%20%20%20%20zoom%3A%2011%2C%0A%20%20%20%20%20%20%20%20%20%20%20%20%20%20%20%20%20%20%20%20zoomControl%3A%20true%2C%0A%20%20%20%20%20%20%20%20%20%20%20%20%20%20%20%20%20%20%20%20preferCanvas%3A%20false%2C%0A%20%20%20%20%20%20%20%20%20%20%20%20%20%20%20%20%7D%0A%20%20%20%20%20%20%20%20%20%20%20%20%29%3B%0A%0A%20%20%20%20%20%20%20%20%20%20%20%20%0A%0A%20%20%20%20%20%20%20%20%0A%20%20%20%20%0A%20%20%20%20%20%20%20%20%20%20%20%20var%20tile_layer_b2186b2ec5d546bba405624433366510%20%3D%20L.tileLayer%28%0A%20%20%20%20%20%20%20%20%20%20%20%20%20%20%20%20%22https%3A//%7Bs%7D.tile.openstreetmap.org/%7Bz%7D/%7Bx%7D/%7By%7D.png%22%2C%0A%20%20%20%20%20%20%20%20%20%20%20%20%20%20%20%20%7B%22attribution%22%3A%20%22Data%20by%20%5Cu0026copy%3B%20%5Cu003ca%20href%3D%5C%22http%3A//openstreetmap.org%5C%22%5Cu003eOpenStreetMap%5Cu003c/a%5Cu003e%2C%20under%20%5Cu003ca%20href%3D%5C%22http%3A//www.openstreetmap.org/copyright%5C%22%5Cu003eODbL%5Cu003c/a%5Cu003e.%22%2C%20%22detectRetina%22%3A%20false%2C%20%22maxNativeZoom%22%3A%2018%2C%20%22maxZoom%22%3A%2018%2C%20%22minZoom%22%3A%200%2C%20%22noWrap%22%3A%20false%2C%20%22opacity%22%3A%201%2C%20%22subdomains%22%3A%20%22abc%22%2C%20%22tms%22%3A%20false%7D%0A%20%20%20%20%20%20%20%20%20%20%20%20%29.addTo%28map_fac58dbbd1604a39a5cdfde5d341b463%29%3B%0A%20%20%20%20%20%20%20%20%0A%20%20%20%20%0A%20%20%20%20%20%20%20%20%20%20%20%20var%20heat_map_235b7cbc60044ebfaf09ffa9b151bda2%20%3D%20L.heatLayer%28%0A%20%20%20%20%20%20%20%20%20%20%20%20%20%20%20%20%5B%5B56.326148%2C%2044.01413400000001%5D%2C%20%5B56.346951%2C%2043.930699%5D%2C%20%5B56.300849%2C%2043.941972%5D%2C%20%5B56.32807%2C%2043.853605%5D%2C%20%5B56.237247%2C%2043.830698%5D%2C%20%5B56.33920300000001%2C%2043.913361%5D%2C%20%5B56.292658%2C%2044.021231%5D%2C%20%5B56.335356%2C%2043.874626%5D%2C%20%5B56.294571%2C%2044.026603%5D%2C%20%5B56.322979%2C%2043.932208%5D%2C%20%5B56.310577%2C%2044.022641%5D%2C%20%5B56.310947%2C%2044.033466%5D%2C%20%5B56.27583900000001%2C%2043.979378%5D%2C%20%5B56.260853%2C%2043.874509%5D%2C%20%5B56.265062%2C%2044.01600300000001%5D%2C%20%5B56.232724%2C%2043.951207%5D%2C%20%5B56.312445%2C%2043.929935%5D%2C%20%5B56.225313%2C%2043.947892%5D%2C%20%5B56.283864%2C%2044.075417%5D%2C%20%5B56.323627%2C%2043.930447%5D%2C%20%5B56.313583%2C%2044.067458%5D%2C%20%5B56.303107%2C%2044.074195%5D%2C%20%5B56.29865699999999%2C%2043.93608%5D%2C%20%5B56.274484%2C%2044.050282%5D%2C%20%5B56.28676700000001%2C%2043.9882%5D%2C%20%5B56.307651%2C%2044.080403%5D%2C%20%5B56.312889%2C%2043.986277%5D%2C%20%5B56.279012%2C%2043.994614%5D%2C%20%5B56.289255%2C%2044.07071%5D%2C%20%5B56.31750699999999%2C%2043.994883%5D%2C%20%5B56.298407%2C%2044.034247%5D%2C%20%5B56.236466%2C%2043.95366%5D%2C%20%5B56.27530400000001%2C%2044.049321%5D%2C%20%5B56.287212%2C%2043.934984%5D%2C%20%5B56.255492%2C%2043.845592%5D%2C%20%5B56.364845%2C%2043.806102%5D%2C%20%5B56.259158%2C%2043.980456%5D%2C%20%5B56.290914%2C%2044.052295%5D%2C%20%5B56.245785%2C%2043.845448%5D%2C%20%5B56.333549%2C%2043.85356%5D%2C%20%5B56.29219300000001%2C%2043.948315%5D%2C%20%5B56.30505%2C%2044.078903%5D%2C%20%5B56.290579%2C%2043.910981%5D%2C%20%5B56.30889000000001%2C%2044.002564%5D%2C%20%5B56.255718%2C%2043.977914%5D%2C%20%5B56.312889%2C%2044.070863%5D%2C%20%5B56.34924%2C%2043.929917%5D%2C%20%5B56.236466%2C%2043.95366%5D%2C%20%5B56.20223100000001%2C%2043.8063%5D%2C%20%5B56.30008%2C%2043.976917%5D%2C%20%5B56.286637%2C%2044.077762%5D%2C%20%5B56.30602800000001%2C%2043.998629%5D%2C%20%5B56.309124%2C%2044.003714%5D%2C%20%5B56.312889%2C%2043.986277%5D%2C%20%5B56.310383%2C%2044.000426%5D%2C%20%5B56.31090699999999%2C%2043.997632%5D%2C%20%5B56.314013%2C%2044.019596%5D%2C%20%5B56.284379%2C%2043.988029%5D%2C%20%5B56.309449%2C%2044.03378%5D%2C%20%5B56.262537%2C%2043.854638%5D%2C%20%5B56.291299%2C%2043.931759%5D%2C%20%5B56.27470400000001%2C%2043.884076%5D%2C%20%5B56.297408%2C%2044.036385%5D%2C%20%5B56.326807%2C%2044.01806%5D%2C%20%5B56.362611%2C%2043.816747%5D%2C%20%5B56.32820400000001%2C%2043.873224%5D%2C%20%5B56.348392%2C%2043.866774%5D%2C%20%5B56.330425%2C%2043.884615%5D%2C%20%5B56.28676700000001%2C%2043.9882%5D%2C%20%5B56.292822%2C%2044.024096%5D%2C%20%5B56.30446%2C%2043.997093%5D%2C%20%5B56.351345%2C%2043.870799%5D%2C%20%5B56.286138%2C%2043.940697%5D%2C%20%5B56.29539499999999%2C%2044.05949%5D%2C%20%5B56.229061%2C%2043.873027%5D%2C%20%5B56.29355200000001%2C%2044.043455%5D%2C%20%5B56.331348%2C%2043.853794%5D%2C%20%5B56.26416700000001%2C%2043.897452%5D%2C%20%5B56.280436%2C%2043.948494%5D%2C%20%5B56.317527%2C%2044.028642%5D%2C%20%5B56.316479%2C%2043.879234%5D%2C%20%5B56.31355300000001%2C%2043.938765%5D%2C%20%5B56.353136%2C%2043.857746%5D%2C%20%5B56.342201%2C%2043.83687000000001%5D%2C%20%5B56.31825600000001%2C%2044.025201%5D%2C%20%5B56.324186%2C%2044.01709%5D%2C%20%5B56.22330600000001%2C%2043.95198900000001%5D%2C%20%5B56.365752%2C%2043.813181%5D%2C%20%5B56.31297900000001%2C%2044.007603%5D%2C%20%5B56.2827%2C%2044.080331%5D%2C%20%5B56.348482%2C%2043.873341%5D%2C%20%5B56.30014%2C%2044.085694%5D%2C%20%5B56.307132%2C%2043.997955%5D%2C%20%5B56.291698%2C%2043.841289%5D%2C%20%5B56.301439%2C%2043.976818%5D%2C%20%5B56.297718%2C%2044.028184%5D%2C%20%5B56.322584%2C%2043.936187%5D%2C%20%5B56.3159%2C%2044.022192%5D%2C%20%5B56.30295699999999%2C%2043.97565%5D%2C%20%5B56.312889%2C%2043.986277%5D%2C%20%5B56.312889%2C%2043.986277%5D%2C%20%5B56.32528000000001%2C%2043.994192%5D%2C%20%5B56.312889%2C%2043.986277%5D%2C%20%5B56.31001800000001%2C%2044.018383%5D%2C%20%5B56.286173%2C%2043.985074%5D%2C%20%5B56.300929%2C%2043.98219%5D%2C%20%5B56.270996%2C%2043.980887%5D%2C%20%5B56.279382%2C%2044.050848%5D%2C%20%5B56.295715%2C%2044.081391%5D%2C%20%5B56.27530400000001%2C%2044.049321%5D%2C%20%5B56.31130600000001%2C%2044.029289%5D%2C%20%5B56.22330600000001%2C%2043.95198900000001%5D%2C%20%5B56.283025%2C%2044.042988%5D%2C%20%5B56.296744%2C%2043.993069%5D%2C%20%5B56.284364%2C%2044.031876%5D%2C%20%5B56.285004%2C%2044.078831%5D%2C%20%5B56.30076%2C%2043.983564%5D%2C%20%5B56.318251%2C%2044.044353%5D%2C%20%5B56.296244%2C%2044.014422%5D%2C%20%5B56.297453%2C%2044.045656%5D%2C%20%5B56.320682%2C%2044.014646%5D%2C%20%5B56.266637%2C%2044.017143%5D%2C%20%5B56.2827%2C%2044.080331%5D%2C%20%5B56.301004000000006%2C%2044.076342%5D%2C%20%5B56.31124200000001%2C%2043.986152%5D%2C%20%5B56.28341500000001%2C%2044.032981%5D%2C%20%5B56.309853%2C%2043.979989%5D%2C%20%5B56.337197%2C%2043.911385%5D%2C%20%5B56.327935%2C%2043.850776%5D%2C%20%5B56.35919000000001%2C%2043.853884%5D%2C%20%5B56.291365%2C%2043.934451%5D%2C%20%5B56.313224%2C%2043.87344%5D%2C%20%5B56.341742%2C%2043.915607%5D%2C%20%5B56.30528399999999%2C%2043.849536%5D%2C%20%5B56.27470400000001%2C%2043.884076%5D%2C%20%5B56.392906%2C%2043.742825%5D%2C%20%5B56.287322%2C%2043.922299%5D%2C%20%5B56.3403%2C%2043.830824%5D%2C%20%5B56.335475%2C%2043.923377%5D%2C%20%5B56.282825%2C%2044.045656%5D%2C%20%5B56.250022%2C%2043.865634%5D%2C%20%5B56.32820400000001%2C%2043.873224%5D%2C%20%5B56.30231800000001%2C%2043.882477%5D%2C%20%5B56.318895%2C%2043.875812%5D%2C%20%5B56.32513%2C%2043.939295%5D%2C%20%5B56.294621%2C%2044.045225%5D%2C%20%5B56.322355%2C%2043.981022%5D%2C%20%5B56.20467900000001%2C%2043.809534%5D%2C%20%5B56.316344%2C%2044.023674%5D%2C%20%5B56.30755600000001%2C%2044.000336%5D%2C%20%5B56.30008%2C%2043.976917%5D%2C%20%5B56.314737%2C%2043.987472%5D%2C%20%5B56.319354%2C%2044.000228%5D%2C%20%5B56.30446%2C%2043.997093%5D%2C%20%5B56.302747%2C%2043.972937%5D%2C%20%5B56.32659200000001%2C%2043.911556%5D%2C%20%5B56.337197%2C%2043.911385%5D%2C%20%5B56.334158%2C%2043.838127%5D%2C%20%5B56.315201%2C%2044.05163%5D%2C%20%5B56.276374%2C%2043.91764600000001%5D%2C%20%5B56.233379000000006%2C%2043.960675%5D%2C%20%5B56.237222%2C%2043.966829%5D%2C%20%5B56.274404%2C%2043.885531%5D%2C%20%5B56.277698%2C%2043.982055%5D%2C%20%5B56.233379000000006%2C%2043.828398%5D%2C%20%5B56.280736%2C%2043.93449%5D%2C%20%5B56.241324%2C%2043.966146%5D%2C%20%5B56.229136%2C%2043.938415%5D%2C%20%5B56.310947%2C%2044.033466%5D%2C%20%5B56.233509%2C%2043.856534%5D%2C%20%5B56.331129%2C%2043.837373%5D%2C%20%5B56.232098%2C%2043.852931%5D%2C%20%5B56.22330600000001%2C%2043.95198900000001%5D%2C%20%5B56.218732%2C%2043.863145%5D%2C%20%5B56.239613%2C%2043.970485%5D%2C%20%5B56.320762%2C%2044.019362%5D%2C%20%5B56.344137%2C%2043.806003%5D%2C%20%5B56.328124%2C%2043.932468%5D%2C%20%5B56.285953000000006%2C%2044.052905%5D%2C%20%5B56.223381%2C%2043.870224%5D%2C%20%5B56.249977%2C%2043.858806%5D%2C%20%5B56.294476%2C%2044.02200300000001%5D%2C%20%5B56.225573%2C%2043.946509000000006%5D%2C%20%5B56.313199%2C%2043.941119%5D%2C%20%5B56.22984200000001%2C%2043.954845%5D%2C%20%5B56.341887%2C%2043.951234%5D%2C%20%5B56.333375%2C%2043.954917%5D%2C%20%5B56.262527%2C%2043.89641%5D%2C%20%5B56.320033%2C%2044.009104%5D%2C%20%5B56.272775%2C%2044.045%5D%2C%20%5B56.217941%2C%2043.862337%5D%2C%20%5B56.320742%2C%2043.986745%5D%2C%20%5B56.338714%2C%2043.91581400000001%5D%2C%20%5B56.332626%2C%2043.939143%5D%2C%20%5B56.322979%2C%2043.932208%5D%2C%20%5B56.235711%2C%2043.950201%5D%2C%20%5B56.334802%2C%2043.846221%5D%2C%20%5B56.252932%2C%2043.85966%5D%2C%20%5B56.237222%2C%2043.966829%5D%2C%20%5B56.292822%2C%2044.024096%5D%2C%20%5B56.353136%2C%2043.857746%5D%2C%20%5B56.315815%2C%2044.052537%5D%2C%20%5B56.284739%2C%2044.050157%5D%2C%20%5B56.29539499999999%2C%2044.05949%5D%2C%20%5B56.320832%2C%2044.044012%5D%2C%20%5B56.28388399999999%2C%2044.070548%5D%2C%20%5B56.337451%2C%2043.833124%5D%2C%20%5B56.28447900000001%2C%2044.070593%5D%2C%20%5B56.236746%2C%2043.950866%5D%2C%20%5B56.309449%2C%2044.03378%5D%2C%20%5B56.305204%2C%2043.933636%5D%2C%20%5B56.291499%2C%2044.06495200000001%5D%2C%20%5B56.24572%2C%2043.838612%5D%2C%20%5B56.269916%2C%2043.982181%5D%2C%20%5B56.321216%2C%2043.92627%5D%2C%20%5B56.287797%2C%2043.91417%5D%2C%20%5B56.31620899999999%2C%2044.03272%5D%2C%20%5B56.316594%2C%2044.02159%5D%2C%20%5B56.326917%2C%2044.008888%5D%2C%20%5B56.290969%2C%2044.04544%5D%2C%20%5B56.350896%2C%2043.872488%5D%2C%20%5B56.260343000000006%2C%2044.013757%5D%2C%20%5B56.33531600000001%2C%2043.941541%5D%2C%20%5B56.221364%2C%2043.855294%5D%2C%20%5B56.221364%2C%2043.855294%5D%2C%20%5B56.300809%2C%2044.078229%5D%2C%20%5B56.306098%2C%2043.98334000000001%5D%2C%20%5B56.301813%2C%2043.953139%5D%2C%20%5B56.303107%2C%2044.074195%5D%2C%20%5B56.23355400000001%2C%2043.850713%5D%2C%20%5B56.243164%2C%2043.830186%5D%2C%20%5B56.29190300000001%2C%2044.016155%5D%2C%20%5B56.34168199999999%2C%2043.924878%5D%2C%20%5B56.274934%2C%2043.983286%5D%2C%20%5B56.336403%2C%2043.839286%5D%2C%20%5B56.236746%2C%2043.950866%5D%2C%20%5B56.26121800000001%2C%2043.855851%5D%2C%20%5B56.35429300000001%2C%2043.857064%5D%2C%20%5B56.251487%2C%2043.865418%5D%2C%20%5B56.242399%2C%2043.847326%5D%2C%20%5B56.234155%2C%2043.842304%5D%2C%20%5B56.246836%2C%2043.854396%5D%2C%20%5B56.314382%2C%2043.994955%5D%2C%20%5B56.291499%2C%2044.06495200000001%5D%2C%20%5B56.292728%2C%2044.023539%5D%2C%20%5B56.28530799999999%2C%2044.042251%5D%2C%20%5B56.317053%2C%2044.033457%5D%2C%20%5B56.34751899999999%2C%2043.93563%5D%2C%20%5B56.326492%2C%2043.991056%5D%2C%20%5B56.275629%2C%2044.046536%5D%2C%20%5B56.33309000000001%2C%2043.937409%5D%2C%20%5B56.350512%2C%2043.866074%5D%2C%20%5B56.321127%2C%2043.998018%5D%2C%20%5B56.317253%2C%2044.030888%5D%2C%20%5B56.324656%2C%2043.931768%5D%2C%20%5B56.270191%2C%2043.922093%5D%2C%20%5B56.316474%2C%2044.04730900000001%5D%2C%20%5B56.326807%2C%2044.01806%5D%2C%20%5B56.34265%2C%2043.940966%5D%2C%20%5B56.300425%2C%2044.035352%5D%2C%20%5B56.237352%2C%2043.951881%5D%2C%20%5B56.291673%2C%2044.071797%5D%2C%20%5B56.29035500000001%2C%2044.046869%5D%2C%20%5B56.274784%2C%2043.948728%5D%2C%20%5B56.262232%2C%2043.983214%5D%2C%20%5B56.245785%2C%2043.845448%5D%2C%20%5B56.315475%2C%2043.995485%5D%2C%20%5B56.341253%2C%2043.950363%5D%2C%20%5B56.30723199999999%2C%2043.996869%5D%2C%20%5B56.313214%2C%2044.068895%5D%2C%20%5B56.319325%2C%2044.030322%5D%2C%20%5B56.237942%2C%2043.843598%5D%2C%20%5B56.237222%2C%2043.966829%5D%2C%20%5B56.22984200000001%2C%2043.954845%5D%2C%20%5B56.285358%2C%2043.934085%5D%2C%20%5B56.34747900000001%2C%2043.865894%5D%2C%20%5B56.313653%2C%2043.888181%5D%2C%20%5B56.23261899999999%2C%2043.95701%5D%2C%20%5B56.298847%2C%2044.034068%5D%2C%20%5B56.29024%2C%2043.935675%5D%2C%20%5B56.304295%2C%2044.04170300000001%5D%2C%20%5B56.27276%2C%2044.045908%5D%2C%20%5B56.235546%2C%2043.86054%5D%2C%20%5B56.285124%2C%2044.074097%5D%2C%20%5B56.296274%2C%2044.02998%5D%2C%20%5B56.321361%2C%2043.973845%5D%2C%20%5B56.216269%2C%2043.862112%5D%2C%20%5B56.340774%2C%2043.91602%5D%2C%20%5B56.308885%2C%2044.029971%5D%2C%20%5B56.244125%2C%2044.009714%5D%2C%20%5B56.262092%2C%2043.999096%5D%2C%20%5B56.300155%2C%2043.997336%5D%2C%20%5B56.32179100000001%2C%2043.935487%5D%2C%20%5B56.293507%2C%2043.986277%5D%2C%20%5B56.343658%2C%2043.906318%5D%2C%20%5B56.238432%2C%2043.862049%5D%2C%20%5B56.217936%2C%2043.863963%5D%2C%20%5B56.285558%2C%2043.988056%5D%2C%20%5B56.305988%2C%2043.943823%5D%2C%20%5B56.227915%2C%2043.860262%5D%2C%20%5B56.33813000000001%2C%2043.926036%5D%2C%20%5B56.292847%2C%2044.036251%5D%2C%20%5B56.287852%2C%2043.93281%5D%2C%20%5B56.29310200000001%2C%2044.067503%5D%2C%20%5B56.324411%2C%2043.93802%5D%2C%20%5B56.259998%2C%2043.852707%5D%2C%20%5B56.325609%2C%2043.933115%5D%2C%20%5B56.23425%2C%2043.854638%5D%2C%20%5B56.23425%2C%2043.854638%5D%2C%20%5B56.291673%2C%2044.071797%5D%2C%20%5B56.293737%2C%2044.051244%5D%2C%20%5B56.362451%2C%2043.801772%5D%2C%20%5B56.341009%2C%2043.914987%5D%2C%20%5B56.288376%2C%2044.068904%5D%2C%20%5B56.342111%2C%2043.868571%5D%2C%20%5B56.233649%2C%2043.878129%5D%2C%20%5B56.229381%2C%2043.873629%5D%2C%20%5B56.324476%2C%2043.984427%5D%2C%20%5B56.262822%2C%2043.977824%5D%2C%20%5B56.186038%2C%2043.847533%5D%2C%20%5B56.353051%2C%2043.856309%5D%2C%20%5B56.31819599999999%2C%2044.053813%5D%2C%20%5B56.298227%2C%2044.038254%5D%2C%20%5B56.336748%2C%2043.873269%5D%2C%20%5B56.27008100000001%2C%2043.915562%5D%2C%20%5B56.299241%2C%2044.063074%5D%2C%20%5B56.262092%2C%2043.999096%5D%2C%20%5B56.227074%2C%2043.869047%5D%2C%20%5B56.318316%2C%2043.878992%5D%2C%20%5B56.208535%2C%2043.820709%5D%2C%20%5B56.335356%2C%2043.874626%5D%2C%20%5B56.296744%2C%2043.993069%5D%2C%20%5B56.337471%2C%2043.936133%5D%2C%20%5B56.280706%2C%2043.989188%5D%2C%20%5B56.26988100000001%2C%2043.930959%5D%2C%20%5B56.330236%2C%2043.929378%5D%2C%20%5B56.26988100000001%2C%2043.930959%5D%2C%20%5B56.330236%2C%2043.929378%5D%2C%20%5B56.226779%2C%2043.86681%5D%2C%20%5B56.30315699999999%2C%2043.980995%5D%2C%20%5B56.30837%2C%2044.029612%5D%2C%20%5B56.238202%2C%2043.955115%5D%2C%20%5B56.285348%2C%2044.070476%5D%2C%20%5B56.272665%2C%2043.881561%5D%2C%20%5B56.29306700000001%2C%2043.919577%5D%2C%20%5B56.23279399999999%2C%2043.945575%5D%2C%20%5B56.294891%2C%2044.078894%5D%2C%20%5B56.258083%2C%2043.980277%5D%2C%20%5B56.30076%2C%2043.983564%5D%2C%20%5B56.286209%2C%2043.934303%5D%2C%20%5B56.369013%2C%2043.800137%5D%2C%20%5B56.285573%2C%2043.993697%5D%2C%20%5B56.252437%2C%2043.842215%5D%2C%20%5B56.266857%2C%2043.880537%5D%2C%20%5B56.341468000000006%2C%2043.916613%5D%2C%20%5B56.294826%2C%2044.010963%5D%2C%20%5B56.298297%2C%2044.049573%5D%2C%20%5B56.286513%2C%2044.045791%5D%2C%20%5B56.353694%2C%2043.857513%5D%2C%20%5B56.33173299999999%2C%2043.866999%5D%2C%20%5B56.29090400000001%2C%2044.004531%5D%2C%20%5B56.297453%2C%2044.045656%5D%2C%20%5B56.34067%2C%2043.952348%5D%2C%20%5B56.26227700000001%2C%2044.019416%5D%2C%20%5B56.332796%2C%2043.935352%5D%2C%20%5B56.23855699999999%2C%2043.827554%5D%2C%20%5B56.332561%2C%2043.913792%5D%2C%20%5B56.27572900000001%2C%2044.051118%5D%2C%20%5B56.26409200000001%2C%2043.877491%5D%2C%20%5B56.22772%2C%2043.881453%5D%2C%20%5B56.311841%2C%2044.075741%5D%2C%20%5B56.19224000000001%2C%2043.85910300000001%5D%2C%20%5B56.34297%2C%2043.84535%5D%2C%20%5B56.368235%2C%2043.809112%5D%2C%20%5B56.235886%2C%2043.825479%5D%2C%20%5B56.31010799999999%2C%2043.996482%5D%2C%20%5B56.28316%2C%2043.931022%5D%2C%20%5B56.28341500000001%2C%2044.032981%5D%2C%20%5B56.180943000000006%2C%2043.909427%5D%2C%20%5B56.31044300000001%2C%2043.998288%5D%2C%20%5B56.360452%2C%2043.856192%5D%2C%20%5B56.225208%2C%2043.867673%5D%2C%20%5B56.359459%2C%2043.857207%5D%2C%20%5B56.260163%2C%2043.855222%5D%2C%20%5B56.284464%2C%2044.075462%5D%2C%20%5B56.302632%2C%2043.938038%5D%2C%20%5B56.30487%2C%2044.043464%5D%2C%20%5B56.279812%2C%2043.946123%5D%2C%20%5B56.30481500000001%2C%2043.998459%5D%2C%20%5B56.287362%2C%2043.932882%5D%2C%20%5B56.267807%2C%2043.875353%5D%2C%20%5B56.347559%2C%2043.873179%5D%2C%20%5B56.294891%2C%2044.036987%5D%2C%20%5B56.281176%2C%2043.918571%5D%2C%20%5B56.353136%2C%2043.857746%5D%2C%20%5B56.341667%2C%2043.947596%5D%2C%20%5B56.296744%2C%2043.993069%5D%2C%20%5B56.277848%2C%2043.980331%5D%2C%20%5B56.291673%2C%2044.071797%5D%2C%20%5B56.264057%2C%2044.017799%5D%2C%20%5B56.235015%2C%2043.944506%5D%2C%20%5B56.28676700000001%2C%2043.9882%5D%2C%20%5B56.230932%2C%2043.827545%5D%2C%20%5B56.288566%2C%2044.07304600000001%5D%2C%20%5B56.313064%2C%2043.881597%5D%2C%20%5B56.252437%2C%2043.842215%5D%2C%20%5B56.369013%2C%2043.800137%5D%2C%20%5B56.31320899999999%2C%2044.035909%5D%2C%20%5B56.342471%2C%2043.917044%5D%2C%20%5B56.246376%2C%2043.844658%5D%2C%20%5B56.304295%2C%2044.04170300000001%5D%2C%20%5B56.298152%2C%2044.036987%5D%2C%20%5B56.271136%2C%2043.979235%5D%2C%20%5B56.337307%2C%2043.836331%5D%2C%20%5B56.350572%2C%2043.871697%5D%2C%20%5B56.298662%2C%2044.038137%5D%2C%20%5B56.326562%2C%2043.931004%5D%2C%20%5B56.254442%2C%2043.857019%5D%2C%20%5B56.366191%2C%2043.818544%5D%2C%20%5B56.235115%2C%2043.827779%5D%2C%20%5B56.326562%2C%2043.931004%5D%2C%20%5B56.254442%2C%2043.857019%5D%2C%20%5B56.366191%2C%2043.818544%5D%2C%20%5B56.235115%2C%2043.827779%5D%2C%20%5B56.272765%2C%2043.982522%5D%2C%20%5B56.341468000000006%2C%2043.916613%5D%2C%20%5B56.325609%2C%2043.933115%5D%2C%20%5B56.326962%2C%2043.921392%5D%2C%20%5B56.345324%2C%2043.94085%5D%2C%20%5B56.265242%2C%2043.980016%5D%2C%20%5B56.298931%2C%2044.041533%5D%2C%20%5B56.275864%2C%2044.049698%5D%2C%20%5B56.302632%2C%2043.938038%5D%2C%20%5B56.264842%2C%2043.897802%5D%2C%20%5B56.323942%2C%2043.87510200000001%5D%2C%20%5B56.30358100000001%2C%2044.067593%5D%2C%20%5B56.286048%2C%2044.078121%5D%2C%20%5B56.291324%2C%2044.044812%5D%2C%20%5B56.28530799999999%2C%2044.042251%5D%2C%20%5B56.2828%2C%2044.035469%5D%2C%20%5B56.296579%2C%2043.988541%5D%2C%20%5B56.348392%2C%2043.866774%5D%2C%20%5B56.236466%2C%2043.95366%5D%2C%20%5B56.340774%2C%2043.91602%5D%2C%20%5B56.291499%2C%2044.06495200000001%5D%2C%20%5B56.287897%2C%2044.072588%5D%2C%20%5B56.27572900000001%2C%2044.051118%5D%2C%20%5B56.320033%2C%2044.009104%5D%2C%20%5B56.311746%2C%2043.975147%5D%2C%20%5B56.316254%2C%2044.021914%5D%2C%20%5B56.242399%2C%2043.847326%5D%2C%20%5B56.294061%2C%2044.024375%5D%2C%20%5B56.262822%2C%2043.977824%5D%2C%20%5B56.36798100000001%2C%2043.82522700000001%5D%2C%20%5B56.348247%2C%2043.872398%5D%2C%20%5B56.353789%2C%2043.834318%5D%2C%20%5B56.255878%2C%2043.84323%5D%2C%20%5B56.28864599999999%2C%2043.932828%5D%2C%20%5B56.275539%2C%2044.047417%5D%2C%20%5B56.313483%2C%2043.975839%5D%2C%20%5B56.30047%2C%2043.911573%5D%2C%20%5B56.322355%2C%2043.981022%5D%2C%20%5B56.282515%2C%2044.048028%5D%2C%20%5B56.23855699999999%2C%2043.827554%5D%2C%20%5B56.272775%2C%2044.045%5D%2C%20%5B56.36170300000001%2C%2043.802671%5D%2C%20%5B56.337741%2C%2043.929926%5D%2C%20%5B56.292822%2C%2044.024096%5D%2C%20%5B56.238157%2C%2043.830896%5D%2C%20%5B56.331718%2C%2043.928165%5D%2C%20%5B56.236746%2C%2043.950866%5D%2C%20%5B56.182201%2C%2043.900964%5D%2C%20%5B56.351101%2C%2043.869263%5D%2C%20%5B56.342151%2C%2043.839124%5D%2C%20%5B56.271306%2C%2043.92486%5D%2C%20%5B56.31871500000001%2C%2044.053822%5D%2C%20%5B56.34902099999999%2C%2043.930986%5D%2C%20%5B56.352163%2C%2043.834902%5D%2C%20%5B56.23326899999999%2C%2043.878426%5D%2C%20%5B56.335785%2C%2043.917143%5D%2C%20%5B56.212029%2C%2043.902402%5D%2C%20%5B56.34064%2C%2043.949581%5D%2C%20%5B56.237787%2C%2043.840643%5D%2C%20%5B56.27637900000001%2C%2043.913954%5D%2C%20%5B56.326897%2C%2043.9283%5D%2C%20%5B56.24158900000001%2C%2043.84796400000001%5D%2C%20%5B56.328973%2C%2043.91152%5D%2C%20%5B56.352038%2C%2043.847092%5D%2C%20%5B56.286513%2C%2044.045791%5D%2C%20%5B56.29650400000001%2C%2044.068689%5D%2C%20%5B56.219728%2C%2043.866173%5D%2C%20%5B56.320822%2C%2043.87998%5D%2C%20%5B56.230932%2C%2043.827545%5D%2C%20%5B56.281551%2C%2043.926521%5D%2C%20%5B56.298407%2C%2044.029289%5D%2C%20%5B56.208535%2C%2043.820709%5D%2C%20%5B56.28356%2C%2043.938855%5D%2C%20%5B56.348312%2C%2043.851243%5D%2C%20%5B56.233119%2C%2043.845736%5D%2C%20%5B56.360955%2C%2043.810522%5D%2C%20%5B56.242824%2C%2043.833447%5D%2C%20%5B56.286637%2C%2044.077762%5D%2C%20%5B56.292238%2C%2044.015643%5D%2C%20%5B56.302283%2C%2043.937184%5D%2C%20%5B56.28285%2C%2044.037284%5D%2C%20%5B56.340056%2C%2043.879207%5D%2C%20%5B56.347828%2C%2043.84852100000001%5D%2C%20%5B56.281336%2C%2043.924015%5D%2C%20%5B56.286468000000006%2C%2043.942907%5D%2C%20%5B56.327935%2C%2043.850776%5D%2C%20%5B56.29790799999999%2C%2044.044991%5D%2C%20%5B56.32145600000001%2C%2043.980735%5D%2C%20%5B56.31254499999999%2C%2044.014368%5D%2C%20%5B56.343234%2C%2043.90842%5D%2C%20%5B56.20286700000001%2C%2043.805833%5D%2C%20%5B56.32056800000001%2C%2043.886762%5D%2C%20%5B56.289126%2C%2043.991245%5D%2C%20%5B56.20853%2C%2043.822586%5D%2C%20%5B56.294251%2C%2043.933933%5D%2C%20%5B56.364845%2C%2043.806102%5D%2C%20%5B56.294761%2C%2044.008268%5D%2C%20%5B56.235556%2C%2043.869514%5D%2C%20%5B56.303496%2C%2043.881435%5D%2C%20%5B56.227435%2C%2043.823188%5D%2C%20%5B56.22330600000001%2C%2043.95198900000001%5D%2C%20%5B56.286393%2C%2043.950084%5D%2C%20%5B56.233824%2C%2043.844901%5D%2C%20%5B56.32820400000001%2C%2043.873224%5D%2C%20%5B56.28325%2C%2043.927177%5D%2C%20%5B56.23004200000001%2C%2043.822317%5D%2C%20%5B56.229471%2C%2043.85127%5D%2C%20%5B56.319335%2C%2043.887822%5D%2C%20%5B56.23004200000001%2C%2043.822317%5D%2C%20%5B56.229471%2C%2043.85127%5D%2C%20%5B56.319335%2C%2043.887822%5D%2C%20%5B56.238142%2C%2043.868194%5D%2C%20%5B56.288121%2C%2043.936106%5D%2C%20%5B56.314078%2C%2044.069021%5D%2C%20%5B56.342086%2C%2043.822146%5D%2C%20%5B56.233824%2C%2043.844901%5D%2C%20%5B56.18462099999999%2C%2043.898018%5D%2C%20%5B56.240768%2C%2043.83528%5D%2C%20%5B56.36294%2C%2043.824491%5D%2C%20%5B56.351505%2C%2043.86616400000001%5D%2C%20%5B56.364231%2C%2043.805042%5D%2C%20%5B56.355704%2C%2043.818813%5D%2C%20%5B56.301988%2C%2044.042224%5D%2C%20%5B56.320548%2C%2043.987652%5D%2C%20%5B56.316284%2C%2044.06347%5D%2C%20%5B56.282825%2C%2044.045656%5D%2C%20%5B56.304086%2C%2044.076154%5D%2C%20%5B56.230912%2C%2043.860944%5D%2C%20%5B56.22330600000001%2C%2043.95198900000001%5D%2C%20%5B56.291988%2C%2043.85612%5D%2C%20%5B56.232979%2C%2043.827689%5D%2C%20%5B56.291519%2C%2043.843733%5D%2C%20%5B56.286513%2C%2044.045791%5D%2C%20%5B56.268636%2C%2043.869002%5D%2C%20%5B56.269086%2C%2043.870125%5D%2C%20%5B56.30342099999999%2C%2044.036906%5D%2C%20%5B56.331623%2C%2043.872182%5D%2C%20%5B56.287622%2C%2044.07454600000001%5D%2C%20%5B56.317462%2C%2043.873647%5D%2C%20%5B56.222661%2C%2043.953121%5D%2C%20%5B56.301768%2C%2044.046743%5D%2C%20%5B56.243129%2C%2043.856893%5D%2C%20%5B56.31297900000001%2C%2044.007603%5D%2C%20%5B56.22880600000001%2C%2043.872362%5D%2C%20%5B56.244125%2C%2044.009714%5D%2C%20%5B56.292603%2C%2043.951486%5D%2C%20%5B56.292238%2C%2044.015643%5D%2C%20%5B56.20853%2C%2043.822586%5D%2C%20%5B56.296744%2C%2043.993069%5D%2C%20%5B56.31515600000001%2C%2043.952267%5D%2C%20%5B56.36996%2C%2043.821589%5D%2C%20%5B56.339307%2C%2043.91249000000001%5D%2C%20%5B56.328509%2C%2043.91417%5D%2C%20%5B56.353186%2C%2043.868895%5D%2C%20%5B56.354447%2C%2043.828201%5D%2C%20%5B56.200383%2C%2043.806893%5D%2C%20%5B56.292847%2C%2044.036251%5D%2C%20%5B56.328509%2C%2043.91417%5D%2C%20%5B56.341742%2C%2043.915607%5D%2C%20%5B56.33205699999999%2C%2043.848485%5D%2C%20%5B56.314092%2C%2044.0261%5D%2C%20%5B56.363354%2C%2043.818364%5D%2C%20%5B56.269086%2C%2043.870125%5D%2C%20%5B56.308915%2C%2044.020054%5D%2C%20%5B56.292822%2C%2044.024096%5D%2C%20%5B56.236621%2C%2043.866388%5D%2C%20%5B56.30014%2C%2044.085694%5D%2C%20%5B56.294341%2C%2044.041641%5D%2C%20%5B56.292668000000006%2C%2044.0435%5D%2C%20%5B56.285124%2C%2044.074097%5D%2C%20%5B56.208269%2C%2043.821625%5D%2C%20%5B56.348247%2C%2043.872398%5D%2C%20%5B56.208204%2C%2043.81937%5D%2C%20%5B56.23406%2C%2043.875578%5D%2C%20%5B56.333375%2C%2043.954917%5D%2C%20%5B56.27530400000001%2C%2044.049321%5D%2C%20%5B56.299241%2C%2044.063074%5D%2C%20%5B56.31001800000001%2C%2044.018383%5D%2C%20%5B56.24601%2C%2043.826988%5D%2C%20%5B56.26159300000001%2C%2043.882477%5D%2C%20%5B56.278662%2C%2043.950264%5D%2C%20%5B56.32409200000001%2C%2043.879782%5D%2C%20%5B56.336403%2C%2043.839286%5D%2C%20%5B56.269086%2C%2043.870125%5D%2C%20%5B56.230577%2C%2043.826611%5D%2C%20%5B56.334348%2C%2043.871527%5D%2C%20%5B56.325943%2C%2043.87272100000001%5D%2C%20%5B56.316394%2C%2044.052986%5D%2C%20%5B56.23323900000001%2C%2043.860989%5D%2C%20%5B56.380573%2C%2043.78282700000001%5D%2C%20%5B56.301539%2C%2043.942485%5D%2C%20%5B56.287622%2C%2044.07454600000001%5D%2C%20%5B56.287622%2C%2044.07454600000001%5D%2C%20%5B56.317862%2C%2043.996653%5D%2C%20%5B56.324736%2C%2043.944101%5D%2C%20%5B56.342486%2C%2043.945674%5D%2C%20%5B56.324451%2C%2044.016775%5D%2C%20%5B56.309464%2C%2043.979684000000006%5D%2C%20%5B56.30711700000001%2C%2044.000435%5D%2C%20%5B56.313628%2C%2043.984166%5D%2C%20%5B56.233379000000006%2C%2043.828398%5D%2C%20%5B56.33662800000001%2C%2043.922201%5D%2C%20%5B56.185748%2C%2043.847003%5D%2C%20%5B56.225243000000006%2C%2043.863002%5D%2C%20%5B56.344446%2C%2043.844065%5D%2C%20%5B56.314028%2C%2043.859857%5D%2C%20%5B56.236501%2C%2043.834678%5D%2C%20%5B56.22954100000001%2C%2043.882235%5D%2C%20%5B56.234445%2C%2043.844047%5D%2C%20%5B56.246516%2C%2043.976737%5D%2C%20%5B56.249477%2C%2043.842134%5D%2C%20%5B56.290909%2C%2044.048854%5D%2C%20%5B56.239493%2C%2043.96779%5D%2C%20%5B56.28590300000001%2C%2044.048836%5D%2C%20%5B56.328509%2C%2043.91417%5D%2C%20%5B56.33662800000001%2C%2043.922201%5D%2C%20%5B56.298272%2C%2044.048504%5D%2C%20%5B56.341248%2C%2043.917628%5D%2C%20%5B56.230237%2C%2043.825704%5D%2C%20%5B56.342471%2C%2043.917044%5D%2C%20%5B56.265197%2C%2043.977537%5D%2C%20%5B56.22954100000001%2C%2043.882235%5D%2C%20%5B56.342471%2C%2043.917044%5D%2C%20%5B56.24534%2C%2043.827015%5D%2C%20%5B56.28676700000001%2C%2044.068895%5D%2C%20%5B56.291638%2C%2044.037877%5D%2C%20%5B56.27008100000001%2C%2043.915562%5D%2C%20%5B56.240798%2C%2043.848063%5D%2C%20%5B56.296744%2C%2043.993069%5D%2C%20%5B56.34902099999999%2C%2043.930986%5D%2C%20%5B56.287257%2C%2044.073558%5D%2C%20%5B56.286298%2C%2044.042162%5D%2C%20%5B56.28676700000001%2C%2043.9882%5D%2C%20%5B56.29699300000001%2C%2044.04633%5D%2C%20%5B56.316594%2C%2044.02159%5D%2C%20%5B56.316594%2C%2044.02159%5D%2C%20%5B56.313518%2C%2043.989215%5D%2C%20%5B56.309124%2C%2044.003714%5D%2C%20%5B56.319245%2C%2044.016551%5D%2C%20%5B56.31209499999999%2C%2043.982334%5D%2C%20%5B56.323822%2C%2044.032316%5D%2C%20%5B56.31225500000001%2C%2044.030942%5D%2C%20%5B56.310483%2C%2043.992018%5D%2C%20%5B56.31217%2C%2044.001728%5D%2C%20%5B56.309983%2C%2044.074025%5D%2C%20%5B56.30446%2C%2043.997093%5D%2C%20%5B56.309124%2C%2044.003714%5D%2C%20%5B56.312575%2C%2044.02919%5D%2C%20%5B56.236746%2C%2043.950866%5D%2C%20%5B56.32409200000001%2C%2043.879782%5D%2C%20%5B56.293507%2C%2043.986277%5D%2C%20%5B56.350572%2C%2043.871697%5D%2C%20%5B56.36170300000001%2C%2043.802671%5D%2C%20%5B56.27276%2C%2044.045908%5D%2C%20%5B56.267412%2C%2043.97618%5D%2C%20%5B56.281356%2C%2044.041542%5D%2C%20%5B56.233824%2C%2043.844901%5D%2C%20%5B56.301554%2C%2043.983645%5D%2C%20%5B56.272765%2C%2043.91731400000001%5D%2C%20%5B56.248606%2C%2043.856722%5D%2C%20%5B56.275539%2C%2044.047417%5D%2C%20%5B56.326492%2C%2043.991056%5D%2C%20%5B56.295715%2C%2044.081391%5D%2C%20%5B56.308925%2C%2044.018482%5D%2C%20%5B56.346901%2C%2043.865158%5D%2C%20%5B56.294251%2C%2043.933933%5D%2C%20%5B56.32236999999999%2C%2043.930914%5D%2C%20%5B56.28676700000001%2C%2043.9882%5D%2C%20%5B56.31620899999999%2C%2044.03272%5D%2C%20%5B56.30487%2C%2044.043464%5D%2C%20%5B56.34168199999999%2C%2043.924878%5D%2C%20%5B56.317053%2C%2044.033457%5D%2C%20%5B56.298847%2C%2044.034068%5D%2C%20%5B56.285558%2C%2043.988056%5D%2C%20%5B56.34751899999999%2C%2043.93563%5D%2C%20%5B56.326807%2C%2044.01806%5D%2C%20%5B56.33531600000001%2C%2043.941541%5D%2C%20%5B56.28676700000001%2C%2043.9882%5D%2C%20%5B56.285029%2C%2043.985837%5D%2C%20%5B56.287986%2C%2043.984885%5D%2C%20%5B56.330236%2C%2043.929378%5D%2C%20%5B56.341887%2C%2043.951234%5D%2C%20%5B56.342111%2C%2043.868571%5D%2C%20%5B56.318121%2C%2044.031229%5D%2C%20%5B56.314162%2C%2044.020584%5D%2C%20%5B56.30837%2C%2044.029612%5D%2C%20%5B56.232724%2C%2043.951207%5D%2C%20%5B56.31286899999999%2C%2044.066847%5D%2C%20%5B56.315815%2C%2044.052537%5D%2C%20%5B56.249166%2C%2043.850623%5D%2C%20%5B56.272765%2C%2043.885145%5D%2C%20%5B56.326807%2C%2044.01806%5D%2C%20%5B56.258853%2C%2043.853273%5D%2C%20%5B56.30046%2C%2043.938586%5D%2C%20%5B56.30358100000001%2C%2044.067593%5D%2C%20%5B56.30495500000001%2C%2043.995027%5D%2C%20%5B56.29865699999999%2C%2043.93608%5D%2C%20%5B56.328124%2C%2043.932468%5D%2C%20%5B56.301933%2C%2044.072659%5D%2C%20%5B56.315386%2C%2044.027232%5D%2C%20%5B56.277528%2C%2043.981112%5D%2C%20%5B56.304086%2C%2044.076154%5D%2C%20%5B56.307272%2C%2043.945359%5D%2C%20%5B56.296579%2C%2043.988541%5D%2C%20%5B56.362451%2C%2043.801772%5D%2C%20%5B56.2828%2C%2044.035469%5D%2C%20%5B56.275209%2C%2043.919128%5D%2C%20%5B56.238202%2C%2043.955115%5D%2C%20%5B56.29699300000001%2C%2044.04633%5D%2C%20%5B56.285124%2C%2044.074097%5D%2C%20%5B56.316344%2C%2044.023674%5D%2C%20%5B56.322784%2C%2043.921509%5D%2C%20%5B56.238847%2C%2043.95613%5D%2C%20%5B56.30446%2C%2043.997093%5D%2C%20%5B56.289545%2C%2043.99129%5D%2C%20%5B56.293452%2C%2043.987499%5D%2C%20%5B56.28676700000001%2C%2043.9882%5D%2C%20%5B56.29998000000001%2C%2043.951513%5D%2C%20%5B56.29998000000001%2C%2043.953139%5D%2C%20%5B56.28676700000001%2C%2043.9882%5D%2C%20%5B56.341328%2C%2043.953174%5D%2C%20%5B56.308051%2C%2044.032154%5D%2C%20%5B56.30820600000001%2C%2044.030969%5D%2C%20%5B56.30743199999999%2C%2044.019838%5D%2C%20%5B56.28676700000001%2C%2043.9882%5D%2C%20%5B56.265242%2C%2043.980016%5D%2C%20%5B56.348941%2C%2043.875264%5D%2C%20%5B56.301933%2C%2044.072659%5D%2C%20%5B56.314627%2C%2043.993751%5D%2C%20%5B56.338714%2C%2043.91581400000001%5D%2C%20%5B56.293682%2C%2044.020099%5D%2C%20%5B56.223807%2C%2043.953049%5D%2C%20%5B56.285563%2C%2044.080798%5D%2C%20%5B56.31572%2C%2044.057711%5D%2C%20%5B56.315126%2C%2044.019686%5D%2C%20%5B56.23536%2C%2043.947901%5D%2C%20%5B56.316344%2C%2044.023674%5D%2C%20%5B56.239448%2C%2043.957118%5D%2C%20%5B56.316684%2C%2044.023261%5D%2C%20%5B56.30716700000001%2C%2044.080448%5D%2C%20%5B56.316594%2C%2044.02159%5D%2C%20%5B56.28661700000001%2C%2044.080115%5D%2C%20%5B56.337471%2C%2043.936133%5D%2C%20%5B56.315001%2C%2044.022399%5D%2C%20%5B56.3159%2C%2044.022192%5D%2C%20%5B56.317462%2C%2044.007289%5D%2C%20%5B56.316154%2C%2044.023054%5D%2C%20%5B56.303107%2C%2044.074195%5D%2C%20%5B56.321206%2C%2044.016694%5D%2C%20%5B56.236466%2C%2043.95366%5D%2C%20%5B56.30996800000001%2C%2044.02088%5D%2C%20%5B56.307651%2C%2044.080403%5D%2C%20%5B56.30008%2C%2043.976917%5D%2C%20%5B56.284379%2C%2043.988029%5D%2C%20%5B56.285833%2C%2044.073998%5D%2C%20%5B56.265937%2C%2043.898117%5D%2C%20%5B56.22784%2C%2043.945853%5D%2C%20%5B56.30446%2C%2043.997093%5D%2C%20%5B56.233384%2C%2043.969668%5D%2C%20%5B56.325759%2C%2043.98661%5D%2C%20%5B56.286173%2C%2043.985074%5D%2C%20%5B56.30528399999999%2C%2043.999887%5D%2C%20%5B56.31204%2C%2044.02705200000001%5D%2C%20%5B56.31074200000001%2C%2044.001351%5D%2C%20%5B56.286927%2C%2044.078723%5D%2C%20%5B56.227285%2C%2043.947686%5D%2C%20%5B56.320033%2C%2044.009104%5D%2C%20%5B56.298922%2C%2044.064566%5D%2C%20%5B56.314936%2C%2044.023602%5D%2C%20%5B56.323587%2C%2044.008897%5D%2C%20%5B56.297718%2C%2044.028184%5D%2C%20%5B56.316349%2C%2044.027735%5D%2C%20%5B56.232313%2C%2043.946913%5D%2C%20%5B56.263602%2C%2043.898737%5D%2C%20%5B56.317832%2C%2044.018823%5D%2C%20%5B56.309374%2C%2044.004774%5D%2C%20%5B56.317233%2C%2044.02786%5D%2C%20%5B56.328688%2C%2043.954486%5D%2C%20%5B56.34924%2C%2043.929917%5D%2C%20%5B56.31588000000001%2C%2044.023881%5D%2C%20%5B56.31074200000001%2C%2044.001351%5D%2C%20%5B56.29569%2C%2044.077699%5D%2C%20%5B56.30716700000001%2C%2044.080448%5D%2C%20%5B56.285004%2C%2044.078831%5D%2C%20%5B56.314092%2C%2044.0261%5D%2C%20%5B56.29569%2C%2044.077699%5D%2C%20%5B56.284379%2C%2043.988029%5D%2C%20%5B56.313628%2C%2043.984166%5D%2C%20%5B56.314013%2C%2044.019596%5D%2C%20%5B56.317462%2C%2044.007289%5D%2C%20%5B56.307132%2C%2043.997955%5D%2C%20%5B56.309449%2C%2044.03378%5D%2C%20%5B56.31010799999999%2C%2043.996482%5D%2C%20%5B56.235335%2C%2043.832297%5D%2C%20%5B56.258473%2C%2043.857243%5D%2C%20%5B56.31898%2C%2044.01788%5D%2C%20%5B56.23433000000001%2C%2043.950255%5D%2C%20%5B56.243785%2C%2043.843571%5D%2C%20%5B56.316284%2C%2044.06347%5D%2C%20%5B56.30964399999999%2C%2043.981076%5D%2C%20%5B56.301229000000006%2C%2044.077708%5D%2C%20%5B56.309464%2C%2043.979684000000006%5D%2C%20%5B56.233499%2C%2043.977689%5D%2C%20%5B56.277528%2C%2043.981112%5D%2C%20%5B56.30889000000001%2C%2044.024914%5D%2C%20%5B56.263602%2C%2043.898737%5D%2C%20%5B56.314058%2C%2043.984454%5D%2C%20%5B56.29699300000001%2C%2044.04633%5D%2C%20%5B56.316284%2C%2044.06347%5D%2C%20%5B56.317897%2C%2044.006642%5D%2C%20%5B56.30505%2C%2044.078903%5D%2C%20%5B56.28670200000001%2C%2044.067575%5D%2C%20%5B56.312445%2C%2044.073683%5D%2C%20%5B56.316684%2C%2044.023261%5D%2C%20%5B56.241324%2C%2043.966146%5D%2C%20%5B56.30868%2C%2043.941155%5D%2C%20%5B56.379566%2C%2043.796904%5D%2C%20%5B56.341193%2C%2043.946985%5D%2C%20%5B56.307132%2C%2043.997955%5D%2C%20%5B56.316594%2C%2044.02159%5D%2C%20%5B56.286927%2C%2044.078723%5D%2C%20%5B56.31588000000001%2C%2044.023881%5D%2C%20%5B56.313628%2C%2043.984166%5D%2C%20%5B56.287207%2C%2044.064988%5D%2C%20%5B56.281671%2C%2043.921985%5D%2C%20%5B56.31205500000001%2C%2044.003103%5D%2C%20%5B56.283345%2C%2043.981786%5D%2C%20%5B56.31001800000001%2C%2044.018383%5D%2C%20%5B56.312879%2C%2044.030187%5D%2C%20%5B56.32318299999999%2C%2044.02877700000001%5D%2C%20%5B56.31225500000001%2C%2044.030942%5D%2C%20%5B56.315296%2C%2043.99977%5D%2C%20%5B56.317462%2C%2044.007289%5D%2C%20%5B56.320548%2C%2043.987652%5D%2C%20%5B56.342486%2C%2043.945674%5D%2C%20%5B56.316129%2C%2044.024186%5D%2C%20%5B56.320682%2C%2044.014646%5D%2C%20%5B56.315001%2C%2044.022399%5D%2C%20%5B56.317233%2C%2044.02786%5D%2C%20%5B56.309124%2C%2044.003714%5D%2C%20%5B56.284984%2C%2043.984193%5D%2C%20%5B56.307132%2C%2043.997955%5D%2C%20%5B56.329402%2C%2043.930986%5D%2C%20%5B56.289151%2C%2044.073926%5D%2C%20%5B56.317712%2C%2044.018311%5D%2C%20%5B56.306088%2C%2043.999554%5D%2C%20%5B56.320842000000006%2C%2043.997228%5D%2C%20%5B56.24448%2C%2043.863415%5D%2C%20%5B56.307382%2C%2044.030241%5D%2C%20%5B56.315001%2C%2044.022399%5D%2C%20%5B56.315001%2C%2044.022399%5D%2C%20%5B56.315001%2C%2044.022399%5D%2C%20%5B56.319295%2C%2044.021087%5D%2C%20%5B56.31001800000001%2C%2044.018383%5D%2C%20%5B56.312879%2C%2044.030187%5D%2C%20%5B56.30446%2C%2043.997093%5D%2C%20%5B56.316754%2C%2044.006121%5D%2C%20%5B56.316754%2C%2044.006121%5D%2C%20%5B56.29998000000001%2C%2043.953139%5D%2C%20%5B56.284379%2C%2043.988029%5D%2C%20%5B56.315126%2C%2044.019686%5D%2C%20%5B56.311781%2C%2043.982819%5D%2C%20%5B56.312245%2C%2043.944344%5D%2C%20%5B56.258423%2C%2043.98161500000001%5D%2C%20%5B56.328504%2C%2044.012427%5D%2C%20%5B56.30348100000001%2C%2044.07904600000001%5D%2C%20%5B56.309619%2C%2043.994039%5D%2C%20%5B56.301853%2C%2044.026342%5D%2C%20%5B56.313948%2C%2044.018626%5D%2C%20%5B56.284514%2C%2043.984148%5D%2C%20%5B56.313948%2C%2044.018626%5D%2C%20%5B56.291723%2C%2044.053175%5D%2C%20%5B56.31588000000001%2C%2044.023881%5D%2C%20%5B56.315001%2C%2044.022399%5D%2C%20%5B56.315101%2C%2044.023063%5D%2C%20%5B56.316669%2C%2044.017449%5D%2C%20%5B56.317527%2C%2044.028642%5D%2C%20%5B56.30008%2C%2043.976917%5D%2C%20%5B56.324186%2C%2044.01709%5D%2C%20%5B56.28676700000001%2C%2043.9882%5D%2C%20%5B56.295315%2C%2044.019425%5D%2C%20%5B56.315436%2C%2044.021437%5D%2C%20%5B56.316154%2C%2044.023054%5D%2C%20%5B56.309374%2C%2044.004774%5D%2C%20%5B56.315001%2C%2044.022399%5D%2C%20%5B56.315101%2C%2044.023063%5D%2C%20%5B56.309464%2C%2044.030744%5D%2C%20%5B56.30602800000001%2C%2043.998629%5D%2C%20%5B56.310632%2C%2044.011089%5D%2C%20%5B56.322674%2C%2044.031768%5D%2C%20%5B56.30493000000001%2C%2044.073953%5D%2C%20%5B56.30493000000001%2C%2044.073953%5D%2C%20%5B56.315101%2C%2044.023063%5D%2C%20%5B56.31461700000001%2C%2044.022551%5D%2C%20%5B56.313199%2C%2044.031193%5D%2C%20%5B56.308925%2C%2044.018482%5D%2C%20%5B56.309774%2C%2043.994766%5D%2C%20%5B56.313503%2C%2043.975848%5D%2C%20%5B56.309124%2C%2044.003714%5D%2C%20%5B56.32318299999999%2C%2044.02877700000001%5D%2C%20%5B56.304855%2C%2044.077322%5D%2C%20%5B56.28676700000001%2C%2043.9882%5D%2C%20%5B56.31010799999999%2C%2043.996482%5D%2C%20%5B56.30602800000001%2C%2043.998629%5D%2C%20%5B56.309774%2C%2043.994766%5D%2C%20%5B56.316344%2C%2044.023674%5D%2C%20%5B56.322779%2C%2044.02998%5D%2C%20%5B56.314796%2C%2044.000453%5D%2C%20%5B56.320827%2C%2044.018608%5D%2C%20%5B56.281716%2C%2043.982513%5D%2C%20%5B56.322624%2C%2044.028462%5D%2C%20%5B56.316594%2C%2044.02159%5D%2C%20%5B56.314936%2C%2044.023602%5D%2C%20%5B56.314477%2C%2044.02144600000001%5D%2C%20%5B56.316594%2C%2044.02159%5D%2C%20%5B56.315001%2C%2044.022399%5D%2C%20%5B56.312385%2C%2044.002079%5D%2C%20%5B56.31217%2C%2044.001728%5D%2C%20%5B56.314252%2C%2044.021482%5D%2C%20%5B56.315001%2C%2044.022399%5D%2C%20%5B56.30014%2C%2044.085694%5D%2C%20%5B56.30031500000001%2C%2044.078687%5D%2C%20%5B56.314936%2C%2044.023602%5D%2C%20%5B56.314252%2C%2044.021482%5D%2C%20%5B56.321067000000006%2C%2044.00949%5D%2C%20%5B56.30743199999999%2C%2044.019838%5D%2C%20%5B56.315126%2C%2044.019686%5D%2C%20%5B56.276598%2C%2043.987787%5D%2C%20%5B56.28589300000001%2C%2044.042799%5D%2C%20%5B56.31428199999999%2C%2044.018347%5D%2C%20%5B56.284984%2C%2043.984193%5D%2C%20%5B56.284984%2C%2043.984193%5D%2C%20%5B56.30990799999999%2C%2044.000893%5D%2C%20%5B56.300635%2C%2043.951144%5D%2C%20%5B56.31001800000001%2C%2044.018383%5D%2C%20%5B56.309774%2C%2043.994766%5D%2C%20%5B56.312075%2C%2044.014359000000006%5D%2C%20%5B56.319949%2C%2044.010514%5D%2C%20%5B56.30602800000001%2C%2043.998629%5D%2C%20%5B56.302747%2C%2043.972937%5D%2C%20%5B56.31001800000001%2C%2044.018383%5D%2C%20%5B56.312385%2C%2044.002079%5D%2C%20%5B56.31209499999999%2C%2043.982334%5D%2C%20%5B56.316344%2C%2044.023674%5D%2C%20%5B56.312889%2C%2044.001082%5D%2C%20%5B56.309124%2C%2044.003714%5D%2C%20%5B56.315101%2C%2044.023063%5D%2C%20%5B56.31205500000001%2C%2044.003103%5D%2C%20%5B56.31085699999999%2C%2043.995728%5D%2C%20%5B56.30570400000001%2C%2044.000255%5D%2C%20%5B56.31010799999999%2C%2043.996482%5D%2C%20%5B56.316154%2C%2044.023054%5D%2C%20%5B56.31217%2C%2044.001728%5D%2C%20%5B56.322779%2C%2044.02998%5D%2C%20%5B56.31461700000001%2C%2044.022551%5D%2C%20%5B56.313408%2C%2044.001531%5D%2C%20%5B56.309619%2C%2043.994039%5D%2C%20%5B56.28341500000001%2C%2044.032981%5D%2C%20%5B56.320488%2C%2044.011242%5D%2C%20%5B56.313408%2C%2044.001531%5D%2C%20%5B56.31461700000001%2C%2044.022551%5D%2C%20%5B56.317113%2C%2044.027097%5D%2C%20%5B56.309619%2C%2043.994039%5D%2C%20%5B56.312889%2C%2043.986277%5D%2C%20%5B56.31044300000001%2C%2043.998288%5D%2C%20%5B56.314252%2C%2044.021482%5D%2C%20%5B56.326423%2C%2044.018841%5D%2C%20%5B56.311182%2C%2043.989628%5D%2C%20%5B56.3159%2C%2044.022192%5D%2C%20%5B56.314162%2C%2044.020584%5D%2C%20%5B56.31010799999999%2C%2043.996482%5D%2C%20%5B56.31209499999999%2C%2043.982334%5D%2C%20%5B56.31631899999999%2C%2044.026773%5D%2C%20%5B56.31461700000001%2C%2044.022551%5D%2C%20%5B56.312385%2C%2044.002079%5D%2C%20%5B56.31404300000001%2C%2043.979801%5D%2C%20%5B56.324461%2C%2044.026522%5D%2C%20%5B56.243785%2C%2043.843571%5D%2C%20%5B56.316129%2C%2044.024186%5D%2C%20%5B56.311466%2C%2044.001055%5D%2C%20%5B56.315101%2C%2044.023063%5D%2C%20%5B56.301439%2C%2043.976818%5D%2C%20%5B56.309619%2C%2043.994039%5D%2C%20%5B56.320033%2C%2044.009104%5D%2C%20%5B56.311217000000006%2C%2043.98157%5D%2C%20%5B56.329327%2C%2044.014997%5D%2C%20%5B56.309374%2C%2044.004774%5D%2C%20%5B56.312889%2C%2043.986277%5D%2C%20%5B56.31205500000001%2C%2044.003103%5D%2C%20%5B56.242814%2C%2043.859309%5D%2C%20%5B56.32318299999999%2C%2044.02877700000001%5D%2C%20%5B56.321127%2C%2043.998018%5D%2C%20%5B56.32282900000001%2C%2044.037418%5D%2C%20%5B56.321486%2C%2044.000435%5D%2C%20%5B56.320847%2C%2044.011951%5D%2C%20%5B56.311182%2C%2043.989628%5D%2C%20%5B56.31209499999999%2C%2043.982334%5D%2C%20%5B56.31110200000001%2C%2044.00012%5D%2C%20%5B56.324461%2C%2044.026522%5D%2C%20%5B56.307132%2C%2043.997955%5D%2C%20%5B56.319245%2C%2044.016551%5D%2C%20%5B56.314252%2C%2044.021482%5D%2C%20%5B56.319295%2C%2044.021087%5D%2C%20%5B56.316154%2C%2044.023054%5D%2C%20%5B56.30711700000001%2C%2044.000435%5D%2C%20%5B56.319245%2C%2044.016551%5D%2C%20%5B56.313948%2C%2044.018626%5D%2C%20%5B56.314477%2C%2044.02144600000001%5D%2C%20%5B56.28156600000001%2C%2043.981292%5D%2C%20%5B56.31868100000001%2C%2044.01207700000001%5D%2C%20%5B56.31209499999999%2C%2043.982334%5D%2C%20%5B56.311821%2C%2043.993185%5D%2C%20%5B56.316943%2C%2044.022677%5D%2C%20%5B56.310922%2C%2043.98546%5D%2C%20%5B56.302747%2C%2043.972937%5D%2C%20%5B56.307072%2C%2044.020297%5D%2C%20%5B56.309774%2C%2043.994766%5D%2C%20%5B56.319245%2C%2044.016551%5D%2C%20%5B56.320158%2C%2044.009822%5D%2C%20%5B56.317527%2C%2044.028642%5D%2C%20%5B56.31217%2C%2044.001728%5D%2C%20%5B56.311336%2C%2043.985415%5D%2C%20%5B56.307651%2C%2044.080403%5D%2C%20%5B56.32234%2C%2044.025588%5D%2C%20%5B56.32282900000001%2C%2044.037418%5D%2C%20%5B56.309619%2C%2043.994039%5D%2C%20%5B56.312365%2C%2044.00083%5D%2C%20%5B56.319479%2C%2044.001666%5D%2C%20%5B56.32528000000001%2C%2043.994192%5D%2C%20%5B56.334946%2C%2043.95798900000001%5D%2C%20%5B56.321067000000006%2C%2044.00949%5D%2C%20%5B56.31150600000001%2C%2043.987068%5D%2C%20%5B56.31428199999999%2C%2044.018347%5D%2C%20%5B56.319734%2C%2044.016137%5D%2C%20%5B56.320283%2C%2043.994407%5D%2C%20%5B56.323163%2C%2044.033888%5D%2C%20%5B56.320812%2C%2043.983717%5D%2C%20%5B56.31074200000001%2C%2044.001351%5D%2C%20%5B56.313628%2C%2043.984166%5D%2C%20%5B56.31428199999999%2C%2044.018347%5D%2C%20%5B56.307651%2C%2044.080403%5D%2C%20%5B56.309124%2C%2044.003714%5D%2C%20%5B56.309124%2C%2044.003714%5D%2C%20%5B56.312385%2C%2044.002079%5D%2C%20%5B56.316114%2C%2043.991703%5D%2C%20%5B56.32282900000001%2C%2044.037418%5D%2C%20%5B56.311821%2C%2043.993185%5D%2C%20%5B56.237787%2C%2043.840643%5D%2C%20%5B56.330086%2C%2043.883537%5D%2C%20%5B56.256793%2C%2043.920853%5D%2C%20%5B56.347858%2C%2043.931741%5D%2C%20%5B56.288546%2C%2043.931848%5D%2C%20%5B56.350896%2C%2043.872488%5D%2C%20%5B56.277818%2C%2043.921383%5D%2C%20%5B56.31795699999999%2C%2043.940409%5D%2C%20%5B56.277763%2C%2043.937822%5D%2C%20%5B56.31419200000001%2C%2043.874859%5D%2C%20%5B56.329717%2C%2043.958753%5D%2C%20%5B56.307272%2C%2043.945359%5D%2C%20%5B56.239448%2C%2043.957118%5D%2C%20%5B56.36108%2C%2043.827276%5D%2C%20%5B56.366744%2C%2043.807459%5D%2C%20%5B56.338604%2C%2043.844883%5D%2C%20%5B56.18575300000001%2C%2043.899653%5D%2C%20%5B56.231388%2C%2043.831372%5D%2C%20%5B56.190592%2C%2043.864619%5D%2C%20%5B56.193121%2C%2043.891846%5D%2C%20%5B56.184375%2C%2043.8525%5D%2C%20%5B56.249977%2C%2043.858806%5D%2C%20%5B56.310458%2C%2044.03415800000001%5D%2C%20%5B56.291943%2C%2043.90957%5D%2C%20%5B56.337451%2C%2043.833124%5D%2C%20%5B56.320478%2C%2044.04509%5D%2C%20%5B56.328484%2C%2043.916227%5D%2C%20%5B56.337197%2C%2043.911385%5D%2C%20%5B56.334158%2C%2043.838127%5D%2C%20%5B56.218732%2C%2043.863145%5D%2C%20%5B56.36073100000001%2C%2043.818248%5D%2C%20%5B56.310458%2C%2044.03415800000001%5D%2C%20%5B56.231688%2C%2043.874662%5D%2C%20%5B56.309369%2C%2043.887687%5D%2C%20%5B56.352757%2C%2043.834273%5D%2C%20%5B56.239613%2C%2043.970485%5D%2C%20%5B56.233824%2C%2043.844901%5D%2C%20%5B56.328085%2C%2043.916011%5D%2C%20%5B56.326408%2C%2043.922506%5D%2C%20%5B56.22984200000001%2C%2043.954845%5D%2C%20%5B56.237222%2C%2043.966829%5D%2C%20%5B56.331723%2C%2043.856094%5D%2C%20%5B56.233379000000006%2C%2043.828398%5D%2C%20%5B56.237222%2C%2043.966829%5D%2C%20%5B56.225984%2C%2043.864897%5D%2C%20%5B56.334313%2C%2043.886277%5D%2C%20%5B56.250152%2C%2043.849689%5D%2C%20%5B56.228496%2C%2043.845763%5D%2C%20%5B56.340285%2C%2043.924473%5D%2C%20%5B56.27206%2C%2043.983493%5D%2C%20%5B56.218561%2C%2043.962418%5D%2C%20%5B56.344137%2C%2043.806003%5D%2C%20%5B56.262537%2C%2043.854638%5D%2C%20%5B56.237272%2C%2043.841262%5D%2C%20%5B56.352782%2C%2043.86355%5D%2C%20%5B56.35860200000001%2C%2043.807647%5D%2C%20%5B56.259253%2C%2043.863011%5D%2C%20%5B56.30355600000001%2C%2043.843005%5D%2C%20%5B56.27161%2C%2043.930663%5D%2C%20%5B56.268721%2C%2043.983268%5D%2C%20%5B56.359808%2C%2043.81567800000001%5D%2C%20%5B56.25624300000001%2C%2043.846032%5D%2C%20%5B56.232674%2C%2043.85321%5D%2C%20%5B56.241489%2C%2043.96982%5D%2C%20%5B56.285124%2C%2044.071707%5D%2C%20%5B56.331084%2C%2043.875219%5D%2C%20%5B56.249977%2C%2043.858806%5D%2C%20%5B56.230817%2C%2043.827967%5D%2C%20%5B56.321162%2C%2044.001836%5D%2C%20%5B56.239758%2C%2043.962562%5D%2C%20%5B56.33058000000001%2C%2043.955052%5D%2C%20%5B56.23784200000001%2C%2043.829701%5D%2C%20%5B56.284114%2C%2044.049555%5D%2C%20%5B56.230912%2C%2043.860944%5D%2C%20%5B56.283824%2C%2044.050947%5D%2C%20%5B56.229211%2C%2043.822829%5D%2C%20%5B56.28938%2C%2043.993428%5D%2C%20%5B56.331892%2C%2043.874123%5D%2C%20%5B56.35125%2C%2043.872155%5D%2C%20%5B56.358367%2C%2043.852563%5D%2C%20%5B56.33720200000001%2C%2043.931022%5D%2C%20%5B56.32615799999999%2C%2043.93714%5D%2C%20%5B56.30229300000001%2C%2044.07660300000001%5D%2C%20%5B56.286662%2C%2044.066156%5D%2C%20%5B56.291499%2C%2044.06495200000001%5D%2C%20%5B56.346541%2C%2043.926611%5D%2C%20%5B56.318316%2C%2043.878992%5D%2C%20%5B56.288566%2C%2044.07304600000001%5D%2C%20%5B56.224422%2C%2043.860405%5D%2C%20%5B56.28325%2C%2043.927177%5D%2C%20%5B56.281356%2C%2044.041542%5D%2C%20%5B56.355435%2C%2043.833106%5D%2C%20%5B56.24948199999999%2C%2043.97989000000001%5D%2C%20%5B56.299181%2C%2044.033942%5D%2C%20%5B56.360173%2C%2043.848736%5D%2C%20%5B56.230577%2C%2043.826611%5D%2C%20%5B56.32634300000001%2C%2043.913729%5D%2C%20%5B56.286298%2C%2044.042162%5D%2C%20%5B56.284944%2C%2044.07963%5D%2C%20%5B56.338604%2C%2043.844883%5D%2C%20%5B56.343254%2C%2043.926216%5D%2C%20%5B56.235886%2C%2043.825479%5D%2C%20%5B56.290914%2C%2044.037284%5D%2C%20%5B56.208825%2C%2043.821805%5D%2C%20%5B56.330595%2C%2043.956678%5D%2C%20%5B56.288116%2C%2044.051208%5D%2C%20%5B56.267587%2C%2043.86598400000001%5D%2C%20%5B56.285823%2C%2043.947847%5D%2C%20%5B56.320857%2C%2043.980753%5D%2C%20%5B56.303731000000006%2C%2044.069551%5D%2C%20%5B56.323627%2C%2043.930447%5D%2C%20%5B56.282395%2C%2043.942979%5D%2C%20%5B56.305764%2C%2043.840687%5D%2C%20%5B56.291254%2C%2043.984651%5D%2C%20%5B56.237862%2C%2043.825686%5D%2C%20%5B56.230002%2C%2043.820394%5D%2C%20%5B56.323053%2C%2043.930609%5D%2C%20%5B56.264062%2C%2044.019749%5D%2C%20%5B56.264312%2C%2043.85207800000001%5D%2C%20%5B56.263037%2C%2044.001773%5D%2C%20%5B56.259618%2C%2043.982819%5D%2C%20%5B56.305129%2C%2043.989152%5D%2C%20%5B56.303591%2C%2043.924042%5D%2C%20%5B56.27276%2C%2044.045908%5D%2C%20%5B56.359808%2C%2043.81567800000001%5D%2C%20%5B56.303691%2C%2043.935199%5D%2C%20%5B56.297798%2C%2044.038218%5D%2C%20%5B56.223807%2C%2043.953049%5D%2C%20%5B56.28388399999999%2C%2044.070548%5D%2C%20%5B56.238977%2C%2043.967988%5D%2C%20%5B56.33801500000001%2C%2043.914718%5D%2C%20%5B56.264547%2C%2044.019192%5D%2C%20%5B56.357998%2C%2043.86125%5D%2C%20%5B56.301059%2C%2043.978839%5D%2C%20%5B56.293742%2C%2044.03758%5D%2C%20%5B56.327875%2C%2043.95304%5D%2C%20%5B56.297258%2C%2044.071474%5D%2C%20%5B56.359434%2C%2043.851728%5D%2C%20%5B56.284464%2C%2044.073019%5D%2C%20%5B56.325943%2C%2043.87272100000001%5D%2C%20%5B56.23754200000001%2C%2043.868948%5D%2C%20%5B56.264062%2C%2044.019749%5D%2C%20%5B56.307127%2C%2043.924348%5D%2C%20%5B56.286637%2C%2044.077762%5D%2C%20%5B56.340545%2C%2043.925911%5D%2C%20%5B56.328174%2C%2043.953462%5D%2C%20%5B56.316903%2C%2043.986969%5D%2C%20%5B56.291658%2C%2043.935945%5D%2C%20%5B56.352901%2C%2043.864223%5D%2C%20%5B56.232183%2C%2043.959975%5D%2C%20%5B56.31555%2C%2044.060496%5D%2C%20%5B56.235751%2C%2043.956121%5D%2C%20%5B56.30487%2C%2044.043464%5D%2C%20%5B56.329547%2C%2043.845161%5D%2C%20%5B56.30348100000001%2C%2044.07904600000001%5D%2C%20%5B56.239958%2C%2043.958358%5D%2C%20%5B56.284379%2C%2043.988029%5D%2C%20%5B56.26959100000001%2C%2043.927707%5D%2C%20%5B56.35908000000001%2C%2043.847901%5D%2C%20%5B56.283954%2C%2043.934615%5D%2C%20%5B56.304086%2C%2044.076154%5D%2C%20%5B56.265062%2C%2044.01600300000001%5D%2C%20%5B56.309619%2C%2044.002357%5D%2C%20%5B56.348247%2C%2043.872398%5D%2C%20%5B56.343967000000006%2C%2043.9321%5D%2C%20%5B56.295605%2C%2043.990401%5D%2C%20%5B56.341328%2C%2043.953174%5D%2C%20%5B56.31617900000001%2C%2043.997713%5D%2C%20%5B56.303731000000006%2C%2044.069551%5D%2C%20%5B56.28156600000001%2C%2044.044713%5D%2C%20%5B56.30846999999999%2C%2043.979468%5D%2C%20%5B56.285653%2C%2043.944775%5D%2C%20%5B56.309209%2C%2043.98237%5D%2C%20%5B56.301439%2C%2043.976818%5D%2C%20%5B56.348482%2C%2043.873341%5D%2C%20%5B56.305779%2C%2044.000938%5D%2C%20%5B56.299975%2C%2044.006561%5D%2C%20%5B56.315615%2C%2044.063281%5D%2C%20%5B56.298477%2C%2044.06078400000001%5D%2C%20%5B56.286927%2C%2044.078723%5D%2C%20%5B56.239448%2C%2043.957118%5D%2C%20%5B56.30353100000001%2C%2044.077465%5D%2C%20%5B56.312555%2C%2043.882199%5D%2C%20%5B56.331663%2C%2043.869263%5D%2C%20%5B56.255312%2C%2043.972542%5D%2C%20%5B56.302218%2C%2044.079109%5D%2C%20%5B56.317462%2C%2044.007289%5D%2C%20%5B56.367064%2C%2043.809516%5D%2C%20%5B56.321147%2C%2043.998962%5D%2C%20%5B56.30861%2C%2043.94579%5D%2C%20%5B56.301079%2C%2043.880564%5D%2C%20%5B56.341253%2C%2043.950363%5D%2C%20%5B56.326807%2C%2044.01806%5D%2C%20%5B56.320992%2C%2044.025902%5D%2C%20%5B56.324586%2C%2043.957648%5D%2C%20%5B56.284379%2C%2043.988029%5D%2C%20%5B56.31596999999999%2C%2044.061314%5D%2C%20%5B56.313214%2C%2044.068895%5D%2C%20%5B56.31617900000001%2C%2043.997713%5D%2C%20%5B56.30446%2C%2043.997093%5D%2C%20%5B56.30639300000001%2C%2043.99853%5D%2C%20%5B56.311217000000006%2C%2043.98157%5D%2C%20%5B56.306093%2C%2044.00012%5D%2C%20%5B56.302463%2C%2043.953139%5D%2C%20%5B56.301189%2C%2043.935909%5D%2C%20%5B56.321271%2C%2044.005277%5D%2C%20%5B56.321271%2C%2044.005277%5D%2C%20%5B56.317113%2C%2044.027097%5D%2C%20%5B56.323403000000006%2C%2044.032828%5D%2C%20%5B56.312075%2C%2044.014359000000006%5D%2C%20%5B56.312699%2C%2043.994272%5D%2C%20%5B56.294891%2C%2044.078894%5D%2C%20%5B56.320463%2C%2044.014143%5D%2C%20%5B56.316154%2C%2044.023054%5D%2C%20%5B56.307472%2C%2044.081122%5D%2C%20%5B56.30755600000001%2C%2044.000336%5D%2C%20%5B56.31428199999999%2C%2044.018347%5D%2C%20%5B56.321147%2C%2043.998962%5D%2C%20%5B56.319285%2C%2043.998665%5D%2C%20%5B56.31346800000001%2C%2043.99818%5D%2C%20%5B56.299621%2C%2044.056768%5D%2C%20%5B56.325389%2C%2044.009023%5D%2C%20%5B56.313204000000006%2C%2044.00065%5D%2C%20%5B56.185162%2C%2043.900273%5D%2C%20%5B56.185162%2C%2043.900273%5D%2C%20%5B56.18304200000001%2C%2043.903219%5D%2C%20%5B56.352258%2C%2043.839106%5D%2C%20%5B56.383553000000006%2C%2043.78315%5D%2C%20%5B56.37986%2C%2043.794999%5D%2C%20%5B56.20853%2C%2043.822586%5D%2C%20%5B56.346387%2C%2043.801611%5D%2C%20%5B56.270616%2C%2043.877366%5D%2C%20%5B56.19266500000001%2C%2043.859911%5D%2C%20%5B56.217395%2C%2043.862912%5D%2C%20%5B56.363075%2C%2043.801674%5D%2C%20%5B56.269576%2C%2043.874509%5D%2C%20%5B56.368435%2C%2043.801332%5D%2C%20%5B56.23544%2C%2043.838397%5D%2C%20%5B56.29193299999999%2C%2043.934651%5D%2C%20%5B56.23939300000001%2C%2043.966919%5D%2C%20%5B56.391401%2C%2043.741846%5D%2C%20%5B56.220123%2C%2043.867493%5D%2C%20%5B56.230237%2C%2043.825704%5D%2C%20%5B56.230662%2C%2043.880734%5D%2C%20%5B56.348941%2C%2043.869101%5D%2C%20%5B56.352652%2C%2043.838127%5D%2C%20%5B54.998648%2C%2044.928727%5D%2C%20%5B56.275864%2C%2044.049698%5D%2C%20%5B56.285653%2C%2043.944775%5D%2C%20%5B56.326288%2C%2043.915185%5D%2C%20%5B56.240798%2C%2043.965553%5D%2C%20%5B56.263027%2C%2043.854836%5D%2C%20%5B56.36251600000001%2C%2043.803416%5D%2C%20%5B56.28338000000001%2C%2044.043994%5D%2C%20%5B56.328688%2C%2043.932037%5D%2C%20%5B56.320253%2C%2044.028669%5D%2C%20%5B56.32857900000001%2C%2043.930061%5D%2C%20%5B56.225573%2C%2043.946509000000006%5D%2C%20%5B56.289151%2C%2044.073926%5D%2C%20%5B56.22330600000001%2C%2043.95198900000001%5D%2C%20%5B56.328075%2C%2043.909876%5D%2C%20%5B56.274484%2C%2044.050282%5D%2C%20%5B56.341917%2C%2043.914556%5D%2C%20%5B56.31898%2C%2044.01788%5D%2C%20%5B56.295979%2C%2044.016991%5D%2C%20%5B56.245615%2C%2043.82388%5D%2C%20%5B56.218116%2C%2043.8662%5D%2C%20%5B56.294266%2C%2044.036772%5D%2C%20%5B56.263532%2C%2043.88881%5D%2C%20%5B56.30873%2C%2043.943518%5D%2C%20%5B56.35416800000001%2C%2043.864035%5D%2C%20%5B56.298931%2C%2044.041533%5D%2C%20%5B56.291204%2C%2043.911663%5D%2C%20%5B56.283864%2C%2044.073001%5D%2C%20%5B56.305564%2C%2043.996626%5D%2C%20%5B56.31724300000001%2C%2043.938505%5D%2C%20%5B56.322979%2C%2043.932208%5D%2C%20%5B56.320123%2C%2044.021905%5D%2C%20%5B56.265172%2C%2044.020584%5D%2C%20%5B56.291369%2C%2043.917808%5D%2C%20%5B56.335271%2C%2043.920754%5D%2C%20%5B56.260378%2C%2043.983645%5D%2C%20%5B56.28219%2C%2043.947156%5D%2C%20%5B56.195796%2C%2043.848655%5D%2C%20%5B56.264547%2C%2044.019192%5D%2C%20%5B56.29569%2C%2044.077699%5D%2C%20%5B56.302283%2C%2043.937184%5D%2C%20%5B56.25624300000001%2C%2043.846032%5D%2C%20%5B56.29764300000001%2C%2043.989188%5D%2C%20%5B56.330405000000006%2C%2043.959292%5D%2C%20%5B56.30429%2C%2043.934795%5D%2C%20%5B56.317887%2C%2044.01576%5D%2C%20%5B56.311876%2C%2043.887544%5D%2C%20%5B56.262717%2C%2044.020225%5D%2C%20%5B56.22330600000001%2C%2043.95198900000001%5D%2C%20%5B56.291788%2C%2043.97601%5D%2C%20%5B56.291743%2C%2044.01735%5D%2C%20%5B56.297358%2C%2044.049573%5D%2C%20%5B56.307272%2C%2043.945359%5D%2C%20%5B56.23855699999999%2C%2043.827554%5D%2C%20%5B56.31594499999999%2C%2043.892709%5D%2C%20%5B56.32574399999999%2C%2043.917062%5D%2C%20%5B56.347559%2C%2043.873179%5D%2C%20%5B56.3157%2C%2043.992251%5D%2C%20%5B56.293682%2C%2044.020099%5D%2C%20%5B56.297553%2C%2043.992628%5D%2C%20%5B56.232313%2C%2043.946913%5D%2C%20%5B56.33891800000001%2C%2043.932926%5D%2C%20%5B56.30711700000001%2C%2044.000435%5D%2C%20%5B56.32370699999999%2C%2043.985271%5D%2C%20%5B56.307651%2C%2044.080403%5D%2C%20%5B56.307651%2C%2044.080403%5D%2C%20%5B56.232098%2C%2043.949887%5D%2C%20%5B56.315296%2C%2043.99977%5D%2C%20%5B56.30990799999999%2C%2044.000893%5D%2C%20%5B56.348178%2C%2043.855204%5D%2C%20%5B56.313808%2C%2043.941146%5D%2C%20%5B56.363359%2C%2043.809929%5D%2C%20%5B56.34823299999999%2C%2043.856336%5D%2C%20%5B56.294371%2C%2043.951719%5D%2C%20%5B56.256853%2C%2043.856857%5D%2C%20%5B56.36294%2C%2043.824491%5D%2C%20%5B56.31874499999999%2C%2044.04801%5D%2C%20%5B56.371187%2C%2043.801314%5D%2C%20%5B56.241669%2C%2043.834615%5D%2C%20%5B56.348482%2C%2043.873341%5D%2C%20%5B56.353186%2C%2043.868895%5D%2C%20%5B56.28530799999999%2C%2044.042251%5D%2C%20%5B56.27417%2C%2044.047956%5D%2C%20%5B56.325045%2C%2043.916397%5D%2C%20%5B56.301269%2C%2044.079064%5D%2C%20%5B56.31054200000001%2C%2044.016254%5D%2C%20%5B56.308051%2C%2044.032154%5D%2C%20%5B56.286413%2C%2044.065167%5D%2C%20%5B56.276099%2C%2044.051962%5D%2C%20%5B56.348716%2C%2043.860864%5D%2C%20%5B56.31555%2C%2044.060496%5D%2C%20%5B56.284984%2C%2044.052115%5D%2C%20%5B56.284984%2C%2044.052115%5D%2C%20%5B56.321271%2C%2044.005277%5D%2C%20%5B56.340166%2C%2044.104657%5D%2C%20%5B56.36376800000001%2C%2044.045315%5D%2C%20%5B56.33251600000001%2C%2044.11462%5D%2C%20%5B56.211223%2C%2044.098252%5D%2C%20%5B56.24948199999999%2C%2044.043491%5D%2C%20%5B56.207814%2C%2044.098899%5D%2C%20%5B56.26377700000001%2C%2043.7487%5D%2C%20%5B56.40400500000001%2C%2044.005942%5D%2C%20%5B56.248871%2C%2044.049923%5D%2C%20%5B56.390724%2C%2044.058232%5D%2C%20%5B56.39995500000001%2C%2043.987544%5D%2C%20%5B56.370314%2C%2044.04085900000001%5D%2C%20%5B56.369761%2C%2044.038559%5D%2C%20%5B56.355864%2C%2044.081283%5D%2C%20%5B56.211248%2C%2044.096779%5D%2C%20%5B56.161815%2C%2043.917071%5D%2C%20%5B56.350517%2C%2044.065149%5D%2C%20%5B56.36111500000001%2C%2044.062733%5D%2C%20%5B56.367821%2C%2044.044821%5D%2C%20%5B56.183022%2C%2043.903309%5D%2C%20%5B56.248316%2C%2044.043302%5D%2C%20%5B56.342161%2C%2044.126199%5D%2C%20%5B56.211248%2C%2044.096779%5D%2C%20%5B56.370314%2C%2044.04085900000001%5D%2C%20%5B56.35997800000001%2C%2044.059894%5D%2C%20%5B56.381166%2C%2044.019632%5D%2C%20%5B56.378792%2C%2044.01862%5D%2C%20%5B56.36995%2C%2044.039655%5D%2C%20%5B56.38124499999999%2C%2044.018105%5D%2C%20%5B56.35149499999999%2C%2044.093698%5D%2C%20%5B56.350956%2C%2044.069641%5D%2C%20%5B56.247851%2C%2044.050794%5D%2C%20%5B56.35743000000001%2C%2044.059257%5D%2C%20%5B56.331987%2C%2044.115231%5D%2C%20%5B56.392323%2C%2044.04235%5D%2C%20%5B56.338639%2C%2044.12893%5D%2C%20%5B56.392333%2C%2044.042853%5D%2C%20%5B56.247141000000006%2C%2044.04287100000001%5D%2C%20%5B56.35740500000001%2C%2044.066398%5D%2C%20%5B56.247851%2C%2044.050794%5D%2C%20%5B56.342830000000006%2C%2044.126468%5D%2C%20%5B56.209801%2C%2044.023351%5D%2C%20%5B56.161779%2C%2043.920197%5D%2C%20%5B56.104301%2C%2043.511338%5D%2C%20%5B56.264547%2C%2044.019192%5D%2C%20%5B56.272775%2C%2044.045%5D%5D%2C%0A%20%20%20%20%20%20%20%20%20%20%20%20%20%20%20%20%7B%22blur%22%3A%2015%2C%20%22maxZoom%22%3A%2018%2C%20%22minOpacity%22%3A%200.5%2C%20%22radius%22%3A%2025%7D%0A%20%20%20%20%20%20%20%20%20%20%20%20%29.addTo%28map_fac58dbbd1604a39a5cdfde5d341b463%29%3B%0A%20%20%20%20%20%20%20%20%0A%3C/script%3E onload=\"this.contentDocument.open();this.contentDocument.write(    decodeURIComponent(this.getAttribute('data-html')));this.contentDocument.close();\" allowfullscreen webkitallowfullscreen mozallowfullscreen></iframe></div></div>"
      ],
      "text/plain": [
       "<folium.folium.Map at 0x128b833aa60>"
      ]
     },
     "execution_count": 22,
     "metadata": {},
     "output_type": "execute_result"
    }
   ],
   "source": [
    "fol_map = folium.Map(location=[56.29, 43.95], zoom_start = 11) \n",
    "data = [[row['lat'],row['lng']] for index, row in df.iterrows()]\n",
    "HeatMap(data).add_to(fol_map)\n",
    "fol_map"
   ]
  },
  {
   "cell_type": "markdown",
   "metadata": {},
   "source": [
    "### Центр города и барицентр распределения квартир"
   ]
  },
  {
   "cell_type": "code",
   "execution_count": 23,
   "metadata": {},
   "outputs": [
    {
     "data": {
      "text/html": [
       "<div style=\"width:100%;\"><div style=\"position:relative;width:100%;height:0;padding-bottom:60%;\"><span style=\"color:#565656\">Make this Notebook Trusted to load map: File -> Trust Notebook</span><iframe src=\"about:blank\" style=\"position:absolute;width:100%;height:100%;left:0;top:0;border:none !important;\" data-html=%3C%21DOCTYPE%20html%3E%0A%3Chead%3E%20%20%20%20%0A%20%20%20%20%3Cmeta%20http-equiv%3D%22content-type%22%20content%3D%22text/html%3B%20charset%3DUTF-8%22%20/%3E%0A%20%20%20%20%0A%20%20%20%20%20%20%20%20%3Cscript%3E%0A%20%20%20%20%20%20%20%20%20%20%20%20L_NO_TOUCH%20%3D%20false%3B%0A%20%20%20%20%20%20%20%20%20%20%20%20L_DISABLE_3D%20%3D%20false%3B%0A%20%20%20%20%20%20%20%20%3C/script%3E%0A%20%20%20%20%0A%20%20%20%20%3Cstyle%3Ehtml%2C%20body%20%7Bwidth%3A%20100%25%3Bheight%3A%20100%25%3Bmargin%3A%200%3Bpadding%3A%200%3B%7D%3C/style%3E%0A%20%20%20%20%3Cstyle%3E%23map%20%7Bposition%3Aabsolute%3Btop%3A0%3Bbottom%3A0%3Bright%3A0%3Bleft%3A0%3B%7D%3C/style%3E%0A%20%20%20%20%3Cscript%20src%3D%22https%3A//cdn.jsdelivr.net/npm/leaflet%401.6.0/dist/leaflet.js%22%3E%3C/script%3E%0A%20%20%20%20%3Cscript%20src%3D%22https%3A//code.jquery.com/jquery-1.12.4.min.js%22%3E%3C/script%3E%0A%20%20%20%20%3Cscript%20src%3D%22https%3A//maxcdn.bootstrapcdn.com/bootstrap/3.2.0/js/bootstrap.min.js%22%3E%3C/script%3E%0A%20%20%20%20%3Cscript%20src%3D%22https%3A//cdnjs.cloudflare.com/ajax/libs/Leaflet.awesome-markers/2.0.2/leaflet.awesome-markers.js%22%3E%3C/script%3E%0A%20%20%20%20%3Clink%20rel%3D%22stylesheet%22%20href%3D%22https%3A//cdn.jsdelivr.net/npm/leaflet%401.6.0/dist/leaflet.css%22/%3E%0A%20%20%20%20%3Clink%20rel%3D%22stylesheet%22%20href%3D%22https%3A//maxcdn.bootstrapcdn.com/bootstrap/3.2.0/css/bootstrap.min.css%22/%3E%0A%20%20%20%20%3Clink%20rel%3D%22stylesheet%22%20href%3D%22https%3A//maxcdn.bootstrapcdn.com/bootstrap/3.2.0/css/bootstrap-theme.min.css%22/%3E%0A%20%20%20%20%3Clink%20rel%3D%22stylesheet%22%20href%3D%22https%3A//maxcdn.bootstrapcdn.com/font-awesome/4.6.3/css/font-awesome.min.css%22/%3E%0A%20%20%20%20%3Clink%20rel%3D%22stylesheet%22%20href%3D%22https%3A//cdnjs.cloudflare.com/ajax/libs/Leaflet.awesome-markers/2.0.2/leaflet.awesome-markers.css%22/%3E%0A%20%20%20%20%3Clink%20rel%3D%22stylesheet%22%20href%3D%22https%3A//cdn.jsdelivr.net/gh/python-visualization/folium/folium/templates/leaflet.awesome.rotate.min.css%22/%3E%0A%20%20%20%20%0A%20%20%20%20%20%20%20%20%20%20%20%20%3Cmeta%20name%3D%22viewport%22%20content%3D%22width%3Ddevice-width%2C%0A%20%20%20%20%20%20%20%20%20%20%20%20%20%20%20%20initial-scale%3D1.0%2C%20maximum-scale%3D1.0%2C%20user-scalable%3Dno%22%20/%3E%0A%20%20%20%20%20%20%20%20%20%20%20%20%3Cstyle%3E%0A%20%20%20%20%20%20%20%20%20%20%20%20%20%20%20%20%23map_be1e323b448045f29abe5b11c569d7fb%20%7B%0A%20%20%20%20%20%20%20%20%20%20%20%20%20%20%20%20%20%20%20%20position%3A%20relative%3B%0A%20%20%20%20%20%20%20%20%20%20%20%20%20%20%20%20%20%20%20%20width%3A%20100.0%25%3B%0A%20%20%20%20%20%20%20%20%20%20%20%20%20%20%20%20%20%20%20%20height%3A%20100.0%25%3B%0A%20%20%20%20%20%20%20%20%20%20%20%20%20%20%20%20%20%20%20%20left%3A%200.0%25%3B%0A%20%20%20%20%20%20%20%20%20%20%20%20%20%20%20%20%20%20%20%20top%3A%200.0%25%3B%0A%20%20%20%20%20%20%20%20%20%20%20%20%20%20%20%20%7D%0A%20%20%20%20%20%20%20%20%20%20%20%20%3C/style%3E%0A%20%20%20%20%20%20%20%20%0A%3C/head%3E%0A%3Cbody%3E%20%20%20%20%0A%20%20%20%20%0A%20%20%20%20%20%20%20%20%20%20%20%20%3Cdiv%20class%3D%22folium-map%22%20id%3D%22map_be1e323b448045f29abe5b11c569d7fb%22%20%3E%3C/div%3E%0A%20%20%20%20%20%20%20%20%0A%3C/body%3E%0A%3Cscript%3E%20%20%20%20%0A%20%20%20%20%0A%20%20%20%20%20%20%20%20%20%20%20%20var%20map_be1e323b448045f29abe5b11c569d7fb%20%3D%20L.map%28%0A%20%20%20%20%20%20%20%20%20%20%20%20%20%20%20%20%22map_be1e323b448045f29abe5b11c569d7fb%22%2C%0A%20%20%20%20%20%20%20%20%20%20%20%20%20%20%20%20%7B%0A%20%20%20%20%20%20%20%20%20%20%20%20%20%20%20%20%20%20%20%20center%3A%20%5B56.318%2C%2044.023225%5D%2C%0A%20%20%20%20%20%20%20%20%20%20%20%20%20%20%20%20%20%20%20%20crs%3A%20L.CRS.EPSG3857%2C%0A%20%20%20%20%20%20%20%20%20%20%20%20%20%20%20%20%20%20%20%20zoom%3A%2013%2C%0A%20%20%20%20%20%20%20%20%20%20%20%20%20%20%20%20%20%20%20%20zoomControl%3A%20true%2C%0A%20%20%20%20%20%20%20%20%20%20%20%20%20%20%20%20%20%20%20%20preferCanvas%3A%20false%2C%0A%20%20%20%20%20%20%20%20%20%20%20%20%20%20%20%20%7D%0A%20%20%20%20%20%20%20%20%20%20%20%20%29%3B%0A%0A%20%20%20%20%20%20%20%20%20%20%20%20%0A%0A%20%20%20%20%20%20%20%20%0A%20%20%20%20%0A%20%20%20%20%20%20%20%20%20%20%20%20var%20tile_layer_9131c2034fe847018794aaad122b5485%20%3D%20L.tileLayer%28%0A%20%20%20%20%20%20%20%20%20%20%20%20%20%20%20%20%22https%3A//%7Bs%7D.tile.openstreetmap.org/%7Bz%7D/%7Bx%7D/%7By%7D.png%22%2C%0A%20%20%20%20%20%20%20%20%20%20%20%20%20%20%20%20%7B%22attribution%22%3A%20%22Data%20by%20%5Cu0026copy%3B%20%5Cu003ca%20href%3D%5C%22http%3A//openstreetmap.org%5C%22%5Cu003eOpenStreetMap%5Cu003c/a%5Cu003e%2C%20under%20%5Cu003ca%20href%3D%5C%22http%3A//www.openstreetmap.org/copyright%5C%22%5Cu003eODbL%5Cu003c/a%5Cu003e.%22%2C%20%22detectRetina%22%3A%20false%2C%20%22maxNativeZoom%22%3A%2018%2C%20%22maxZoom%22%3A%2018%2C%20%22minZoom%22%3A%200%2C%20%22noWrap%22%3A%20false%2C%20%22opacity%22%3A%201%2C%20%22subdomains%22%3A%20%22abc%22%2C%20%22tms%22%3A%20false%7D%0A%20%20%20%20%20%20%20%20%20%20%20%20%29.addTo%28map_be1e323b448045f29abe5b11c569d7fb%29%3B%0A%20%20%20%20%20%20%20%20%0A%20%20%20%20%0A%20%20%20%20%20%20%20%20%20%20%20%20var%20marker_2cc59f100ddc468e8a1595d74efa372f%20%3D%20L.marker%28%0A%20%20%20%20%20%20%20%20%20%20%20%20%20%20%20%20%5B56.331932%2C%2044.023225%5D%2C%0A%20%20%20%20%20%20%20%20%20%20%20%20%20%20%20%20%7B%7D%0A%20%20%20%20%20%20%20%20%20%20%20%20%29.addTo%28map_be1e323b448045f29abe5b11c569d7fb%29%3B%0A%20%20%20%20%20%20%20%20%0A%20%20%20%20%0A%20%20%20%20%20%20%20%20var%20popup_219d47aa8e31475b9c19f7ee2a671f67%20%3D%20L.popup%28%7B%22maxWidth%22%3A%20%22100%25%22%7D%29%3B%0A%0A%20%20%20%20%20%20%20%20%0A%20%20%20%20%20%20%20%20%20%20%20%20var%20html_5f0a39c08c464ac197fd835f2b4994e6%20%3D%20%24%28%60%3Cdiv%20id%3D%22html_5f0a39c08c464ac197fd835f2b4994e6%22%20style%3D%22width%3A%20100.0%25%3B%20height%3A%20100.0%25%3B%22%3ECity%20Center%3C/div%3E%60%29%5B0%5D%3B%0A%20%20%20%20%20%20%20%20%20%20%20%20popup_219d47aa8e31475b9c19f7ee2a671f67.setContent%28html_5f0a39c08c464ac197fd835f2b4994e6%29%3B%0A%20%20%20%20%20%20%20%20%0A%0A%20%20%20%20%20%20%20%20marker_2cc59f100ddc468e8a1595d74efa372f.bindPopup%28popup_219d47aa8e31475b9c19f7ee2a671f67%29%0A%20%20%20%20%20%20%20%20%3B%0A%0A%20%20%20%20%20%20%20%20%0A%20%20%20%20%0A%20%20%20%20%0A%20%20%20%20%20%20%20%20%20%20%20%20var%20marker_31c808daa2e2448496d66a3cb407225e%20%3D%20L.marker%28%0A%20%20%20%20%20%20%20%20%20%20%20%20%20%20%20%20%5B56.29666416815374%2C%2043.96359794234728%5D%2C%0A%20%20%20%20%20%20%20%20%20%20%20%20%20%20%20%20%7B%7D%0A%20%20%20%20%20%20%20%20%20%20%20%20%29.addTo%28map_be1e323b448045f29abe5b11c569d7fb%29%3B%0A%20%20%20%20%20%20%20%20%0A%20%20%20%20%0A%20%20%20%20%20%20%20%20%20%20%20%20var%20icon_c8739f307963486fb840e7cd2f47e7e4%20%3D%20L.AwesomeMarkers.icon%28%0A%20%20%20%20%20%20%20%20%20%20%20%20%20%20%20%20%7B%22extraClasses%22%3A%20%22fa-rotate-0%22%2C%20%22icon%22%3A%20%22info-sign%22%2C%20%22iconColor%22%3A%20%22white%22%2C%20%22markerColor%22%3A%20%22green%22%2C%20%22prefix%22%3A%20%22glyphicon%22%7D%0A%20%20%20%20%20%20%20%20%20%20%20%20%29%3B%0A%20%20%20%20%20%20%20%20%20%20%20%20marker_31c808daa2e2448496d66a3cb407225e.setIcon%28icon_c8739f307963486fb840e7cd2f47e7e4%29%3B%0A%20%20%20%20%20%20%20%20%0A%20%20%20%20%0A%20%20%20%20%20%20%20%20var%20popup_5b3731cdabcf4b9c8566b5745239d58d%20%3D%20L.popup%28%7B%22maxWidth%22%3A%20%22100%25%22%7D%29%3B%0A%0A%20%20%20%20%20%20%20%20%0A%20%20%20%20%20%20%20%20%20%20%20%20var%20html_db335172768b4eb1b5c481088f2a3345%20%3D%20%24%28%60%3Cdiv%20id%3D%22html_db335172768b4eb1b5c481088f2a3345%22%20style%3D%22width%3A%20100.0%25%3B%20height%3A%20100.0%25%3B%22%3EFlats%20Allocation%20Center%3C/div%3E%60%29%5B0%5D%3B%0A%20%20%20%20%20%20%20%20%20%20%20%20popup_5b3731cdabcf4b9c8566b5745239d58d.setContent%28html_db335172768b4eb1b5c481088f2a3345%29%3B%0A%20%20%20%20%20%20%20%20%0A%0A%20%20%20%20%20%20%20%20marker_31c808daa2e2448496d66a3cb407225e.bindPopup%28popup_5b3731cdabcf4b9c8566b5745239d58d%29%0A%20%20%20%20%20%20%20%20%3B%0A%0A%20%20%20%20%20%20%20%20%0A%20%20%20%20%0A%3C/script%3E onload=\"this.contentDocument.open();this.contentDocument.write(    decodeURIComponent(this.getAttribute('data-html')));this.contentDocument.close();\" allowfullscreen webkitallowfullscreen mozallowfullscreen></iframe></div></div>"
      ],
      "text/plain": [
       "<folium.folium.Map at 0x128b5964d00>"
      ]
     },
     "execution_count": 23,
     "metadata": {},
     "output_type": "execute_result"
    }
   ],
   "source": [
    "fol_map = folium.Map(location=[56.318, 44.023225], zoom_start = 13) \n",
    "folium.Marker([56.331932, 44.023225], popup='City Center').add_to(fol_map)\n",
    "folium.Marker([df.lat.mean(), df.lng.mean()], popup='Flats Allocation Center', icon=folium.Icon(color='green')).add_to(fol_map)\n",
    "fol_map"
   ]
  },
  {
   "cell_type": "markdown",
   "metadata": {},
   "source": [
    "Синий - центр города, зеленый - барицентр распределения квартир"
   ]
  }
 ],
 "metadata": {
  "kernelspec": {
   "display_name": "Python 3",
   "language": "python",
   "name": "python3"
  },
  "language_info": {
   "codemirror_mode": {
    "name": "ipython",
    "version": 3
   },
   "file_extension": ".py",
   "mimetype": "text/x-python",
   "name": "python",
   "nbconvert_exporter": "python",
   "pygments_lexer": "ipython3",
   "version": "3.8.5"
  }
 },
 "nbformat": 4,
 "nbformat_minor": 4
}
